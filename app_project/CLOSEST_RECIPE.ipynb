{
 "cells": [
  {
   "cell_type": "code",
   "execution_count": 165,
   "metadata": {},
   "outputs": [],
   "source": [
    "import pandas as pd\n",
    "import numpy as np\n",
    "import difflib\n",
    "from math import cos, radians\n",
    "from haversine import haversine, Unit\n",
    "import folium\n",
    "\n",
    "\n"
   ]
  },
  {
   "cell_type": "code",
   "execution_count": 166,
   "metadata": {},
   "outputs": [
    {
     "name": "stdout",
     "output_type": "stream",
     "text": [
      "Please enter a recipe (e.g. Pasta Putanesca): chicken fontina\n"
     ]
    }
   ],
   "source": [
    "#INPUT CELL:\n",
    "input_recipe = input(\"Please enter a recipe (e.g. Pasta Putanesca): \")\n",
    "Lat_in = 35.2220\n",
    "Lon_in = -101.8313\n"
   ]
  },
  {
   "cell_type": "code",
   "execution_count": 167,
   "metadata": {},
   "outputs": [],
   "source": [
    "farm_in = \"USDA_file.csv\"\n",
    "recipe_in = \"Recipe_file.csv\"\n",
    "farms = pd.read_csv(farm_in)\n",
    "recipes = pd.read_csv(recipe_in)\n"
   ]
  },
  {
   "cell_type": "code",
   "execution_count": 168,
   "metadata": {},
   "outputs": [],
   "source": [
    "recipes['title'] = recipes['title'].astype(str)\n",
    "recipes['matched_ingredient'] = recipes['matched_ingredient'].astype(str)\n",
    "farms['LAT'] = farms['LAT'].astype(float)\n",
    "farms['LON'] = farms['LON'].astype(float)"
   ]
  },
  {
   "cell_type": "code",
   "execution_count": 169,
   "metadata": {},
   "outputs": [],
   "source": [
    "rec_list = recipes.title.unique().tolist()\n",
    "hey = rec_list[:1000]\n",
    "match_list = difflib.get_close_matches(input_recipe, rec_list, n=3, cutoff=0.1)\n"
   ]
  },
  {
   "cell_type": "code",
   "execution_count": 170,
   "metadata": {},
   "outputs": [],
   "source": [
    "match_df = recipes[recipes['title'].isin(match_list)]\n",
    "ingredient_list = match_df.matched_ingredient.unique().tolist()\n"
   ]
  },
  {
   "cell_type": "code",
   "execution_count": 171,
   "metadata": {},
   "outputs": [],
   "source": [
    "farms['INGREDIENT']=farms['INGREDIENT'].apply(lambda x: x.lower())"
   ]
  },
  {
   "cell_type": "code",
   "execution_count": 172,
   "metadata": {},
   "outputs": [],
   "source": [
    "farm_search = farms[farms['INGREDIENT'].isin(ingredient_list)]\n"
   ]
  },
  {
   "cell_type": "code",
   "execution_count": 173,
   "metadata": {},
   "outputs": [
    {
     "name": "stderr",
     "output_type": "stream",
     "text": [
      "/Users/networkadministrator/anaconda3/lib/python3.7/site-packages/pandas/core/indexing.py:362: SettingWithCopyWarning: \n",
      "A value is trying to be set on a copy of a slice from a DataFrame.\n",
      "Try using .loc[row_indexer,col_indexer] = value instead\n",
      "\n",
      "See the caveats in the documentation: http://pandas.pydata.org/pandas-docs/stable/indexing.html#indexing-view-versus-copy\n",
      "  self.obj[key] = _infer_fill_value(value)\n",
      "/Users/networkadministrator/anaconda3/lib/python3.7/site-packages/pandas/core/indexing.py:543: SettingWithCopyWarning: \n",
      "A value is trying to be set on a copy of a slice from a DataFrame.\n",
      "Try using .loc[row_indexer,col_indexer] = value instead\n",
      "\n",
      "See the caveats in the documentation: http://pandas.pydata.org/pandas-docs/stable/indexing.html#indexing-view-versus-copy\n",
      "  self.obj[item] = s\n"
     ]
    }
   ],
   "source": [
    "\n",
    "\n",
    "farm_search.loc[:,'es'] = farm_search.apply(lambda x: haversine((Lat_in,Lon_in),(x.LAT, x.LON),unit='mi'), axis=1)\n",
    "\n"
   ]
  },
  {
   "cell_type": "code",
   "execution_count": 174,
   "metadata": {},
   "outputs": [],
   "source": [
    "def my_agg(x):\n",
    "    names = {\n",
    "        'score': x['es'].min()}\n",
    "\n",
    "    return pd.Series(names, index=['score'])\n",
    "\n",
    "idx = farm_search.groupby(['INGREDIENT'])['es'].transform(min) == farm_search['es']\n",
    "farm_vals = farm_search[idx]\n",
    "alpha = farm_vals.groupby(['INGREDIENT','LAT','LON']).apply(my_agg).reset_index()\n",
    "beta = alpha.set_index(['INGREDIENT'])\n",
    "\n"
   ]
  },
  {
   "cell_type": "code",
   "execution_count": 175,
   "metadata": {},
   "outputs": [],
   "source": [
    "def score_ex(x,y):\n",
    "    try:\n",
    "        return beta.loc[x][y]\n",
    "    except:\n",
    "        return None\n",
    "\n",
    "match_df.loc[:,'score'] = match_df.loc[:,'matched_ingredient'].apply(lambda x: score_ex(x,'score'))\n",
    "match_df.loc[:,'Lat'] = match_df.loc[:,'matched_ingredient'].apply(lambda x: score_ex(x,'LAT'))\n",
    "match_df.loc[:,'Lon'] = match_df.loc[:,'matched_ingredient'].apply(lambda x: score_ex(x,'LON'))\n"
   ]
  },
  {
   "cell_type": "code",
   "execution_count": 176,
   "metadata": {},
   "outputs": [
    {
     "data": {
      "text/html": [
       "<div>\n",
       "<style scoped>\n",
       "    .dataframe tbody tr th:only-of-type {\n",
       "        vertical-align: middle;\n",
       "    }\n",
       "\n",
       "    .dataframe tbody tr th {\n",
       "        vertical-align: top;\n",
       "    }\n",
       "\n",
       "    .dataframe thead th {\n",
       "        text-align: right;\n",
       "    }\n",
       "</style>\n",
       "<table border=\"1\" class=\"dataframe\">\n",
       "  <thead>\n",
       "    <tr style=\"text-align: right;\">\n",
       "      <th></th>\n",
       "      <th>original</th>\n",
       "      <th>Lat</th>\n",
       "      <th>Lon</th>\n",
       "    </tr>\n",
       "  </thead>\n",
       "  <tbody>\n",
       "    <tr>\n",
       "      <th>114703</th>\n",
       "      <td>3 tablespoons olive oil</td>\n",
       "      <td>32.217942</td>\n",
       "      <td>-97.769211</td>\n",
       "    </tr>\n",
       "    <tr>\n",
       "      <th>114704</th>\n",
       "      <td>1 3 1/2 pound chicken</td>\n",
       "      <td>35.398675</td>\n",
       "      <td>-101.893804</td>\n",
       "    </tr>\n",
       "    <tr>\n",
       "      <th>114705</th>\n",
       "      <td>6 garlic cloves</td>\n",
       "      <td>34.962529</td>\n",
       "      <td>-101.895547</td>\n",
       "    </tr>\n",
       "    <tr>\n",
       "      <th>114706</th>\n",
       "      <td>1 1/2 teaspoon aniseed</td>\n",
       "      <td>34.572984</td>\n",
       "      <td>-103.346055</td>\n",
       "    </tr>\n",
       "    <tr>\n",
       "      <th>114707</th>\n",
       "      <td>1 28-ounce can Italian plum tomatoes</td>\n",
       "      <td>34.962529</td>\n",
       "      <td>-101.895547</td>\n",
       "    </tr>\n",
       "    <tr>\n",
       "      <th>114708</th>\n",
       "      <td>1/2 cup low-salt chicken broth</td>\n",
       "      <td>35.398675</td>\n",
       "      <td>-101.893804</td>\n",
       "    </tr>\n",
       "    <tr>\n",
       "      <th>114709</th>\n",
       "      <td>1/4 cup Ouzo</td>\n",
       "      <td>NaN</td>\n",
       "      <td>NaN</td>\n",
       "    </tr>\n",
       "    <tr>\n",
       "      <th>114710</th>\n",
       "      <td>1 tablespoon dried oregano</td>\n",
       "      <td>34.572984</td>\n",
       "      <td>-103.346055</td>\n",
       "    </tr>\n",
       "    <tr>\n",
       "      <th>114711</th>\n",
       "      <td>12 black brine-cured olives</td>\n",
       "      <td>32.217942</td>\n",
       "      <td>-97.769211</td>\n",
       "    </tr>\n",
       "    <tr>\n",
       "      <th>114712</th>\n",
       "      <td>4 ounces feta cheese</td>\n",
       "      <td>NaN</td>\n",
       "      <td>NaN</td>\n",
       "    </tr>\n",
       "  </tbody>\n",
       "</table>\n",
       "</div>"
      ],
      "text/plain": [
       "                                    original        Lat         Lon\n",
       "114703               3 tablespoons olive oil  32.217942  -97.769211\n",
       "114704                 1 3 1/2 pound chicken  35.398675 -101.893804\n",
       "114705                       6 garlic cloves  34.962529 -101.895547\n",
       "114706                1 1/2 teaspoon aniseed  34.572984 -103.346055\n",
       "114707  1 28-ounce can Italian plum tomatoes  34.962529 -101.895547\n",
       "114708        1/2 cup low-salt chicken broth  35.398675 -101.893804\n",
       "114709                          1/4 cup Ouzo        NaN         NaN\n",
       "114710            1 tablespoon dried oregano  34.572984 -103.346055\n",
       "114711           12 black brine-cured olives  32.217942  -97.769211\n",
       "114712                  4 ounces feta cheese        NaN         NaN"
      ]
     },
     "execution_count": 176,
     "metadata": {},
     "output_type": "execute_result"
    }
   ],
   "source": [
    "#UPDATES: grabbing original and grouping later to show all ingredients at given location\n",
    "\n",
    "scores = match_df.groupby('title').score.agg(['mean']).sort_values('mean', ascending=True).reset_index()\n",
    "winner = scores.title.iloc[0]\n",
    "\n",
    "closest_df = match_df[match_df['title']==winner][['original','Lat','Lon']]\n",
    "closest_2 = closest_df\n",
    "\n",
    "closest_2"
   ]
  },
  {
   "cell_type": "code",
   "execution_count": 177,
   "metadata": {},
   "outputs": [],
   "source": [
    "#UPDATES: here is the groupby\n",
    "\n",
    "closest_df = closest_df.dropna().reset_index()[['original','Lat','Lon']].reset_index()\n",
    "\n",
    "closest_frame = closest_df.groupby(['Lat', 'Lon']).original.apply(list).reset_index()\n"
   ]
  },
  {
   "cell_type": "code",
   "execution_count": 178,
   "metadata": {},
   "outputs": [],
   "source": [
    "frame_in = pd.DataFrame({'original': ['Home'], 'Lat': [Lat_in], 'Lon': [Lon_in]})\n"
   ]
  },
  {
   "cell_type": "code",
   "execution_count": 179,
   "metadata": {
    "scrolled": false
   },
   "outputs": [
    {
     "data": {
      "text/html": [
       "<div style=\"width:100%;\"><div style=\"position:relative;width:100%;height:0;padding-bottom:60%;\"><iframe src=\"data:text/html;charset=utf-8;base64,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\" style=\"position:absolute;width:100%;height:100%;left:0;top:0;border:none !important;\" allowfullscreen webkitallowfullscreen mozallowfullscreen></iframe></div></div>"
      ],
      "text/plain": [
       "<folium.folium.Map at 0x7fb649bdd9b0>"
      ]
     },
     "metadata": {},
     "output_type": "display_data"
    },
    {
     "name": "stdout",
     "output_type": "stream",
     "text": [
      "The closest matching recipe is: Chicken Athena \n",
      "8 of 10 ingredients located\n"
     ]
    }
   ],
   "source": [
    "\n",
    "         \n",
    "m=folium.Map(location=[Lat_in,Lon_in])\n",
    "for item in range(len(closest_frame)):\n",
    "    df_new = pd.concat([closest_frame.iloc[[item]], frame_in], sort=False)\n",
    "    \n",
    "    points = list(df_new[['Lat','Lon']].to_records(index=False))\n",
    "    #print(df_new[\"position_lat_degrees\"].head())\n",
    "    \n",
    "    try:\n",
    "        folium.PolyLine(locations=points,weight=5).add_to(m)\n",
    "        folium.Marker([df_new[\"Lat\"].iloc[0],df_new[\"Lon\"].iloc[0]], \n",
    "                      popup=df_new['original'].iloc[0]).add_to(m)\n",
    "        \n",
    "    except: \n",
    "        print('Farm to Face Map has been Canned')\n",
    "    #m.add_children(route)\n",
    "m.fit_bounds([[closest_df.Lat.min(), closest_df.Lon.min()], [closest_df.Lat.max(), closest_df.Lon.max()]])\n",
    "display(m)\n",
    "print('The closest matching recipe is: ' + winner)\n",
    "print(str(len(closest_2.dropna())) + ' of ' + str(len(closest_2)) + ' ingredients located')\n",
    "\n"
   ]
  },
  {
   "cell_type": "code",
   "execution_count": null,
   "metadata": {},
   "outputs": [],
   "source": []
  }
 ],
 "metadata": {
  "kernelspec": {
   "display_name": "Python 3",
   "language": "python",
   "name": "python3"
  },
  "language_info": {
   "codemirror_mode": {
    "name": "ipython",
    "version": 3
   },
   "file_extension": ".py",
   "mimetype": "text/x-python",
   "name": "python",
   "nbconvert_exporter": "python",
   "pygments_lexer": "ipython3",
   "version": "3.7.3"
  }
 },
 "nbformat": 4,
 "nbformat_minor": 2
}
