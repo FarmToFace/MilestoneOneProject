{
 "cells": [
  {
   "cell_type": "code",
   "execution_count": null,
   "metadata": {},
   "outputs": [],
   "source": [
    "import pandas as pd\n",
    "import numpy as np\n",
    "import difflib\n",
    "from haversine import haversine, Unit\n",
    "import folium"
   ]
  },
  {
   "cell_type": "code",
   "execution_count": null,
   "metadata": {},
   "outputs": [],
   "source": [
    "#this function just loads necessary cleaned data and sets necessary parameters for later operations\n",
    "def input_take(USDA_csv,Recipe_csv,zip_csv):\n",
    "    farm = pd.read_csv(USDA_csv)\n",
    "    rec = pd.read_csv(Recipe_csv)\n",
    "    zip_codes = pd.read_csv(zip_csv, delimiter = ';')[['Zip','Latitude','Longitude']]\n",
    "    rec['title'] = recipes['title'].astype(str)\n",
    "    rec['matched_ingredient'] = recipes['matched_ingredient'].astype(str)\n",
    "    farm['LAT'] = farms['LAT'].astype(float)\n",
    "    farm['LON'] = farms['LON'].astype(float)\n",
    "    farm['INGREDIENT']=farms['INGREDIENT'].apply(lambda x: x.lower())\n",
    "    \n",
    "    return [farm,rec,zip_codes]"
   ]
  },
  {
   "cell_type": "code",
   "execution_count": null,
   "metadata": {},
   "outputs": [],
   "source": [
    "#INPUT CELL:\n",
    "def user_input():\n",
    "    a = input(\"Please enter a recipe (e.g. Pasta Putanesca): \")\n",
    "    zip_code = int(input(\"Please enter your zip code: \"))\n",
    "    ind_zips = set(zips['Zip'])\n",
    "    zeta = 0\n",
    "    while zeta == 0:\n",
    "        if zip_code in ind_zips:\n",
    "            re_zip = zips[zips['Zip']==zip_code]\n",
    "            b = float(re_zip.Latitude)\n",
    "            c = float(re_zip.Longitude)\n",
    "            zeta = 1\n",
    "        else:\n",
    "            zip_code = int(input(\"That zip code did not work. Please try again: \"))\n",
    "    return [a,b,c]"
   ]
  },
  {
   "cell_type": "code",
   "execution_count": null,
   "metadata": {},
   "outputs": [],
   "source": [
    "#function to find name matches to the input recipe search, can vary number of returned recipes with minimum similarity\n",
    "def match_generator(x,y,z=3,u=0.1):\n",
    "    a = y.title.unique().tolist()\n",
    "    b = difflib.get_close_matches(x, a, n=z, cutoff=u)\n",
    "    return y[y.title.isin(b)]"
   ]
  },
  {
   "cell_type": "code",
   "execution_count": null,
   "metadata": {},
   "outputs": [],
   "source": [
    "#function to search for all ingredient entries from USDA which match items in the returned recipes \n",
    "#and calculate distances \n",
    "def farm_finder(a,b,Lat_1,Lon_1):\n",
    "    i_list = a.matched_ingredient.unique().tolist()\n",
    "    fs = b[b.INGREDIENT.isin(i_list)]\n",
    "    fs.loc[:,'es'] = fs.apply(lambda x: haversine((Lat_1,Lon_1),(x.LAT, x.LON),unit='mi'), axis=1)\n",
    "    return fs"
   ]
  },
  {
   "cell_type": "code",
   "execution_count": null,
   "metadata": {},
   "outputs": [],
   "source": [
    "#functions to return minimum distance for an ingredient in USDA data \n",
    "def my_agg(x):\n",
    "    names = {\n",
    "        'score': x['es'].min()}\n",
    "\n",
    "    return pd.Series(names, index=['score'])\n",
    "\n",
    "def min_agg(x):\n",
    "    return x[x.groupby(['INGREDIENT'])['es'].transform(min) == x['es']] \\\n",
    "    .groupby(['INGREDIENT','LAT','LON']).apply(my_agg).reset_index().set_index(['INGREDIENT'])\n",
    "\n",
    "beta = min_agg(farm_search)\n",
    "\n",
    "\n",
    "#function to attach minimum distances for ingredients to recipe data\n",
    "def score_ex(x):\n",
    "    try:\n",
    "        alpha = beta.loc[x,'score']\n",
    "        kappa = beta.loc[x,'LAT']\n",
    "        gamma = beta.loc[x,'LON']\n",
    "    except:\n",
    "        alpha = np.NaN\n",
    "        kappa = np.NaN\n",
    "        gamma = np.NaN\n",
    "    \n",
    "    names = {\n",
    "        'score': alpha,\n",
    "        'Lat':  kappa,\n",
    "        'Lon': gamma\n",
    "        }\n",
    "\n",
    "    return pd.Series(names, index=['score', 'Lat', 'Lon'])\n",
    "\n",
    "#function which applies the score_ex function, returns the entry with the lowest average ingredient distance,\n",
    "#returns a frame to show found and non-found ingredients (show n of N found information),\n",
    "#and returns a frame with no NaN values, grouping ingredients on lat/ lon for mapping purposes to show all ingredients\n",
    "def merger(x):\n",
    "    match_2 = x.merge(x.matched_ingredient.apply(lambda s: score_ex(s)), left_index=True, right_index=True)\n",
    "    win = match_2.groupby('title').score.agg(['mean']).sort_values('mean', ascending=True).reset_index().title.iloc[0]\n",
    "    closest = match_2[match_2['title']==win][['original','Lat','Lon']]\n",
    "    frame = closest.dropna()[['original','Lat','Lon']].groupby(['Lat', 'Lon']).original.apply(list).reset_index()\n",
    "    return [win,closest,frame]"
   ]
  },
  {
   "cell_type": "code",
   "execution_count": null,
   "metadata": {
    "scrolled": false
   },
   "outputs": [],
   "source": [
    "#function which maps closest sources of ingredients for the recipe with the closest average distance of sourced \n",
    "#ingredients, along with printing information.\n",
    "def face_mapper(a,b,c):\n",
    "    frame_in = pd.DataFrame({'original': ['Home'], 'Lat': [Lat_in], 'Lon': [Lon_in]})   \n",
    "    m=folium.Map(location=[Lat_in,Lon_in])\n",
    "    for item in range(len(c)):\n",
    "        df_new = pd.concat([c.iloc[[item]], frame_in], sort=False)\n",
    "\n",
    "        points = list(df_new[['Lat','Lon']].to_records(index=False))\n",
    "    \n",
    "\n",
    "        try:\n",
    "            folium.PolyLine(locations=points,weight=5).add_to(m)\n",
    "            folium.Marker([df_new[\"Lat\"].iloc[0],df_new[\"Lon\"].iloc[0]], \n",
    "                          popup=df_new['original'].iloc[0]).add_to(m)\n",
    "\n",
    "        except: \n",
    "            print('Farm to Face Map has been Canned')\n",
    "        \n",
    "    m.fit_bounds([[c.Lat.min(), c.Lon.min()], [c.Lat.max(), c.Lon.max()]])\n",
    "    \n",
    "    print('The closest matching recipe is: ' + winner)\n",
    "    print(str(len(closest_df.dropna())) + ' of ' + str(len(closest_df)) + ' ingredients located')\n",
    "    return display(m)"
   ]
  },
  {
   "cell_type": "code",
   "execution_count": null,
   "metadata": {},
   "outputs": [],
   "source": [
    "def farm_to_face():\n",
    "    farms, recipes, zips = input_take(\"USDA_file.csv\",\"Recipe_file.csv\",\"us-zip-code-latitude-and-longitude.csv\")\n",
    "    input_recipe, Lat_in, Lon_in = user_input()\n",
    "    match_df = match_generator(input_recipe,recipes)\n",
    "    farm_search = farm_finder(match_df,farms,Lat_in,Lon_in)\n",
    "    beta = min_agg(farm_search)\n",
    "    winner, closest_df, closest_frame = merger(match_df)\n",
    "    return face_mapper(Lat_in,Lon_in,closest_frame)"
   ]
  },
  {
   "cell_type": "code",
   "execution_count": null,
   "metadata": {},
   "outputs": [],
   "source": [
    "farm_to_face()"
   ]
  }
 ],
 "metadata": {
  "kernelspec": {
   "display_name": "Python 3",
   "language": "python",
   "name": "python3"
  },
  "language_info": {
   "codemirror_mode": {
    "name": "ipython",
    "version": 3
   },
   "file_extension": ".py",
   "mimetype": "text/x-python",
   "name": "python",
   "nbconvert_exporter": "python",
   "pygments_lexer": "ipython3",
   "version": "3.7.3"
  }
 },
 "nbformat": 4,
 "nbformat_minor": 2
}
