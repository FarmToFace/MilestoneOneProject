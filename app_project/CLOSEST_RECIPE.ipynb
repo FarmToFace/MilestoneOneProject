{
 "cells": [
  {
   "cell_type": "code",
   "execution_count": 26,
   "metadata": {},
   "outputs": [],
   "source": [
    "import pandas as pd\n",
    "import numpy as np\n",
    "import difflib\n",
    "from haversine import haversine, Unit\n",
    "import folium\n",
    "import ipywidgets as widgets"
   ]
  },
  {
   "cell_type": "markdown",
   "metadata": {},
   "source": [
    "#### this function just loads necessary cleaned data and sets necessary parameters for later operations\n",
    "def input_take(USDA_csv,Recipe_csv,zip_csv):\n",
    "    farm = pd.read_csv(USDA_csv)\n",
    "    rec = pd.read_csv(Recipe_csv)\n",
    "    zip_codes = pd.read_csv(zip_csv, delimiter = ';')[['Zip','Latitude','Longitude']]\n",
    "    rec['title'] = recipes['title'].astype(str)\n",
    "    rec['matched_ingredient'] = recipes['matched_ingredient'].astype(str)\n",
    "    farm['LAT'] = farms['LAT'].astype(float)\n",
    "    farm['LON'] = farms['LON'].astype(float)\n",
    "    farm['INGREDIENT']=farms['INGREDIENT'].apply(lambda x: x.lower())\n",
    "    \n",
    "    return [farm,rec,zip_codes]"
   ]
  },
  {
   "cell_type": "code",
   "execution_count": 27,
   "metadata": {},
   "outputs": [],
   "source": [
    "#### this function just loads necessary cleaned data and sets necessary parameters for later operations\n",
    "def input_take(USDA_csv,Recipe_csv,zip_csv):\n",
    "    farm = pd.read_csv(USDA_csv)\n",
    "    rec = pd.read_csv(Recipe_csv)\n",
    "    zip_codes = pd.read_csv(zip_csv, delimiter = ';')[['Zip','Latitude','Longitude']]\n",
    "    rec['title'] = recipes['title'].astype(str)\n",
    "    rec['matched_ingredient'] = recipes['matched_ingredient'].astype(str)\n",
    "    farm['LAT'] = farms['LAT'].astype(float)\n",
    "    farm['LON'] = farms['LON'].astype(float)\n",
    "    farm['INGREDIENT']=farms['INGREDIENT'].apply(lambda x: x.lower())\n",
    "    \n",
    "    return [farm,rec,zip_codes]"
   ]
  },
  {
   "cell_type": "code",
   "execution_count": 28,
   "metadata": {},
   "outputs": [],
   "source": [
    "#INPUT CELL:\n",
    "def user_input():\n",
    "    a = input(\"Please enter a recipe (e.g. Pasta Putanesca): \")\n",
    "    #zip_code = int(input(\"Please enter your zip code: \"))\n",
    "    #ind_zips = set(zips['Zip'])\n",
    "    #zeta = 0\n",
    "    #while zeta == 0:\n",
    "    #    if zip_code in ind_zips:\n",
    "    #        re_zip = zips[zips['Zip']==zip_code]\n",
    "    #        b = float(re_zip.Latitude)\n",
    "    #        c = float(re_zip.Longitude)\n",
    "    #        zeta = 1\n",
    "    #    else:\n",
    "    #        zip_code = int(input(\"That zip code did not work. Please try again: \"))\n",
    "    return a"
   ]
  },
  {
   "cell_type": "code",
   "execution_count": 29,
   "metadata": {},
   "outputs": [],
   "source": [
    "#function to find name matches to the input recipe search, can vary number of returned recipes with minimum similarity\n",
    "def match_generator(x,y,z=3,u=0.1):\n",
    "    a = y.title.unique().tolist()\n",
    "    b = difflib.get_close_matches(x, a, n=z, cutoff=u)\n",
    "    return y[y.title.isin(b)]"
   ]
  },
  {
   "cell_type": "code",
   "execution_count": 30,
   "metadata": {},
   "outputs": [],
   "source": [
    "#function to search for all ingredient entries from USDA which match items in the returned recipes \n",
    "#and calculate distances \n",
    "def farm_finder(a,b,Lat_1,Lon_1):\n",
    "    i_list = a.matched_ingredient.unique().tolist()\n",
    "    fs = b[b.INGREDIENT.isin(i_list)]\n",
    "    fs.loc[:,'es'] = fs.apply(lambda x: haversine((Lat_1,Lon_1),(x.LAT, x.LON),unit='mi'), axis=1)\n",
    "    return fs"
   ]
  },
  {
   "cell_type": "code",
   "execution_count": 31,
   "metadata": {},
   "outputs": [],
   "source": [
    "#functions to return minimum distance for an ingredient in USDA data \n",
    "def my_agg(x):\n",
    "    names = {\n",
    "        'score': x['es'].min()}\n",
    "\n",
    "    return pd.Series(names, index=['score'])\n",
    "\n",
    "def min_agg(x):\n",
    "    return x[x.groupby(['INGREDIENT'])['es'].transform(min) == x['es']] \\\n",
    "    .groupby(['INGREDIENT','LAT','LON']).apply(my_agg).reset_index().set_index(['INGREDIENT'])\n",
    "\n",
    "\n",
    "\n",
    "\n",
    "#function to attach minimum distances for ingredients to recipe data\n",
    "def score_ex(x):\n",
    "    try:\n",
    "        alpha = beta.loc[x,'score']\n",
    "        kappa = beta.loc[x,'LAT']\n",
    "        gamma = beta.loc[x,'LON']\n",
    "    except:\n",
    "        alpha = np.NaN\n",
    "        kappa = np.NaN\n",
    "        gamma = np.NaN\n",
    "    \n",
    "    names = {\n",
    "        'score': alpha,\n",
    "        'Lat':  kappa,\n",
    "        'Lon': gamma\n",
    "        }\n",
    "\n",
    "    return pd.Series(names, index=['score', 'Lat', 'Lon'])\n",
    "\n",
    "#function which applies the score_ex function, returns the entry with the lowest average ingredient distance,\n",
    "#returns a frame to show found and non-found ingredients (show n of N found information),\n",
    "#and returns a frame with no NaN values, grouping ingredients on lat/ lon for mapping purposes to show all ingredients\n",
    "def merger(x):\n",
    "    match_2 = x.merge(x.matched_ingredient.apply(lambda s: score_ex(s)), left_index=True, right_index=True)\n",
    "    win = match_2.groupby('title').score.agg(['mean']).sort_values('mean', ascending=True).reset_index().title.iloc[0]\n",
    "    closest = match_2[match_2['title']==win][['original','Lat','Lon']]\n",
    "    frame = closest.dropna()[['original','Lat','Lon']].groupby(['Lat', 'Lon']).original.apply(list).reset_index()\n",
    "    return [win,closest,frame]"
   ]
  },
  {
   "cell_type": "code",
   "execution_count": 32,
   "metadata": {
    "scrolled": false
   },
   "outputs": [],
   "source": [
    "#function which maps closest sources of ingredients for the recipe with the closest average distance of sourced \n",
    "#ingredients, along with printing information.\n",
    "def face_mapper(a,b,c):\n",
    "    frame_in = pd.DataFrame({'original': ['Home'], 'Lat': [Lat_in], 'Lon': [Lon_in]})   \n",
    "    m=folium.Map(location=[Lat_in,Lon_in])\n",
    "    for item in range(len(c)):\n",
    "        df_new = pd.concat([c.iloc[[item]], frame_in], sort=False)\n",
    "\n",
    "        points = list(df_new[['Lat','Lon']].to_records(index=False))\n",
    "    \n",
    "\n",
    "        try:\n",
    "            folium.PolyLine(locations=points,weight=5).add_to(m)\n",
    "            folium.Marker([df_new[\"Lat\"].iloc[0],df_new[\"Lon\"].iloc[0]], \n",
    "                          popup=df_new['original'].iloc[0]).add_to(m)\n",
    "\n",
    "        except: \n",
    "            print('Farm to Face Map has been Canned')\n",
    "        \n",
    "    m.fit_bounds([[c.Lat.min(), c.Lon.min()], [c.Lat.max(), c.Lon.max()]])\n",
    "    \n",
    "    print('The closest matching recipe is: ' + winner)\n",
    "    print(str(len(closest_df.dropna())) + ' of ' + str(len(closest_df)) + ' ingredients located')\n",
    "    return display(m)"
   ]
  },
  {
   "cell_type": "code",
   "execution_count": 33,
   "metadata": {},
   "outputs": [],
   "source": [
    "def farm_to_face():\n",
    "    farms, recipes, zips = input_take(\"USDA_file.csv\",\"Recipe_file.csv\",\"us-zip-code-latitude-and-longitude.csv\")\n",
    "    input_recipe = user_input()\n",
    "    match_df = match_generator(input_recipe,recipes)\n",
    "    farm_search = farm_finder(match_df,farms,Lat_in,Lon_in)\n",
    "    beta = min_agg(farm_search)\n",
    "    winner, closest_df, closest_frame = merger(match_df)\n",
    "    return face_mapper(Lat_in,Lon_in,closest_frame)"
   ]
  },
  {
   "cell_type": "code",
   "execution_count": 34,
   "metadata": {},
   "outputs": [
    {
     "data": {
      "application/vnd.jupyter.widget-view+json": {
       "model_id": "5ede1a4de2d74b6e8e1b0ea3209c1444",
       "version_major": 2,
       "version_minor": 0
      },
      "text/plain": [
       "Text(value='Enter Zip Code', description='Zip:', placeholder='30082')"
      ]
     },
     "metadata": {},
     "output_type": "display_data"
    },
    {
     "ename": "FileNotFoundError",
     "evalue": "[Errno 2] File USDA_file.csv does not exist: 'USDA_file.csv'",
     "output_type": "error",
     "traceback": [
      "\u001b[0;31m---------------------------------------------------------------------------\u001b[0m",
      "\u001b[0;31mFileNotFoundError\u001b[0m                         Traceback (most recent call last)",
      "\u001b[0;32m<ipython-input-34-32e0e55b7e8f>\u001b[0m in \u001b[0;36mcallback\u001b[0;34m(wdgt)\u001b[0m\n\u001b[1;32m     20\u001b[0m     \u001b[0mzip_code_in\u001b[0m \u001b[0;34m=\u001b[0m \u001b[0mwdgt\u001b[0m\u001b[0;34m.\u001b[0m\u001b[0mvalue\u001b[0m\u001b[0;34m\u001b[0m\u001b[0;34m\u001b[0m\u001b[0m\n\u001b[1;32m     21\u001b[0m     \u001b[0mLat_in\u001b[0m\u001b[0;34m,\u001b[0m \u001b[0mLon_in\u001b[0m \u001b[0;34m=\u001b[0m \u001b[0mget_lat_long\u001b[0m\u001b[0;34m(\u001b[0m\u001b[0mzip_code_in\u001b[0m\u001b[0;34m)\u001b[0m\u001b[0;34m\u001b[0m\u001b[0;34m\u001b[0m\u001b[0m\n\u001b[0;32m---> 22\u001b[0;31m     \u001b[0mfarm_to_face\u001b[0m\u001b[0;34m(\u001b[0m\u001b[0;34m)\u001b[0m\u001b[0;34m\u001b[0m\u001b[0;34m\u001b[0m\u001b[0m\n\u001b[0m\u001b[1;32m     23\u001b[0m     \u001b[0;31m#print(zip_code_in)\u001b[0m\u001b[0;34m\u001b[0m\u001b[0;34m\u001b[0m\u001b[0;34m\u001b[0m\u001b[0m\n\u001b[1;32m     24\u001b[0m \u001b[0;34m\u001b[0m\u001b[0m\n",
      "\u001b[0;32m<ipython-input-33-4fd699fb312b>\u001b[0m in \u001b[0;36mfarm_to_face\u001b[0;34m()\u001b[0m\n\u001b[1;32m      1\u001b[0m \u001b[0;32mdef\u001b[0m \u001b[0mfarm_to_face\u001b[0m\u001b[0;34m(\u001b[0m\u001b[0;34m)\u001b[0m\u001b[0;34m:\u001b[0m\u001b[0;34m\u001b[0m\u001b[0;34m\u001b[0m\u001b[0m\n\u001b[0;32m----> 2\u001b[0;31m     \u001b[0mfarms\u001b[0m\u001b[0;34m,\u001b[0m \u001b[0mrecipes\u001b[0m\u001b[0;34m,\u001b[0m \u001b[0mzips\u001b[0m \u001b[0;34m=\u001b[0m \u001b[0minput_take\u001b[0m\u001b[0;34m(\u001b[0m\u001b[0;34m\"USDA_file.csv\"\u001b[0m\u001b[0;34m,\u001b[0m\u001b[0;34m\"Recipe_file.csv\"\u001b[0m\u001b[0;34m,\u001b[0m\u001b[0;34m\"us-zip-code-latitude-and-longitude.csv\"\u001b[0m\u001b[0;34m)\u001b[0m\u001b[0;34m\u001b[0m\u001b[0;34m\u001b[0m\u001b[0m\n\u001b[0m\u001b[1;32m      3\u001b[0m     \u001b[0minput_recipe\u001b[0m \u001b[0;34m=\u001b[0m \u001b[0muser_input\u001b[0m\u001b[0;34m(\u001b[0m\u001b[0;34m)\u001b[0m\u001b[0;34m\u001b[0m\u001b[0;34m\u001b[0m\u001b[0m\n\u001b[1;32m      4\u001b[0m     \u001b[0mmatch_df\u001b[0m \u001b[0;34m=\u001b[0m \u001b[0mmatch_generator\u001b[0m\u001b[0;34m(\u001b[0m\u001b[0minput_recipe\u001b[0m\u001b[0;34m,\u001b[0m\u001b[0mrecipes\u001b[0m\u001b[0;34m)\u001b[0m\u001b[0;34m\u001b[0m\u001b[0;34m\u001b[0m\u001b[0m\n\u001b[1;32m      5\u001b[0m     \u001b[0mfarm_search\u001b[0m \u001b[0;34m=\u001b[0m \u001b[0mfarm_finder\u001b[0m\u001b[0;34m(\u001b[0m\u001b[0mmatch_df\u001b[0m\u001b[0;34m,\u001b[0m\u001b[0mfarms\u001b[0m\u001b[0;34m,\u001b[0m\u001b[0mLat_in\u001b[0m\u001b[0;34m,\u001b[0m\u001b[0mLon_in\u001b[0m\u001b[0;34m)\u001b[0m\u001b[0;34m\u001b[0m\u001b[0;34m\u001b[0m\u001b[0m\n",
      "\u001b[0;32m<ipython-input-27-23b69a8cec54>\u001b[0m in \u001b[0;36minput_take\u001b[0;34m(USDA_csv, Recipe_csv, zip_csv)\u001b[0m\n\u001b[1;32m      1\u001b[0m \u001b[0;31m#### this function just loads necessary cleaned data and sets necessary parameters for later operations\u001b[0m\u001b[0;34m\u001b[0m\u001b[0;34m\u001b[0m\u001b[0;34m\u001b[0m\u001b[0m\n\u001b[1;32m      2\u001b[0m \u001b[0;32mdef\u001b[0m \u001b[0minput_take\u001b[0m\u001b[0;34m(\u001b[0m\u001b[0mUSDA_csv\u001b[0m\u001b[0;34m,\u001b[0m\u001b[0mRecipe_csv\u001b[0m\u001b[0;34m,\u001b[0m\u001b[0mzip_csv\u001b[0m\u001b[0;34m)\u001b[0m\u001b[0;34m:\u001b[0m\u001b[0;34m\u001b[0m\u001b[0;34m\u001b[0m\u001b[0m\n\u001b[0;32m----> 3\u001b[0;31m     \u001b[0mfarm\u001b[0m \u001b[0;34m=\u001b[0m \u001b[0mpd\u001b[0m\u001b[0;34m.\u001b[0m\u001b[0mread_csv\u001b[0m\u001b[0;34m(\u001b[0m\u001b[0mUSDA_csv\u001b[0m\u001b[0;34m)\u001b[0m\u001b[0;34m\u001b[0m\u001b[0;34m\u001b[0m\u001b[0m\n\u001b[0m\u001b[1;32m      4\u001b[0m     \u001b[0mrec\u001b[0m \u001b[0;34m=\u001b[0m \u001b[0mpd\u001b[0m\u001b[0;34m.\u001b[0m\u001b[0mread_csv\u001b[0m\u001b[0;34m(\u001b[0m\u001b[0mRecipe_csv\u001b[0m\u001b[0;34m)\u001b[0m\u001b[0;34m\u001b[0m\u001b[0;34m\u001b[0m\u001b[0m\n\u001b[1;32m      5\u001b[0m     \u001b[0mzip_codes\u001b[0m \u001b[0;34m=\u001b[0m \u001b[0mpd\u001b[0m\u001b[0;34m.\u001b[0m\u001b[0mread_csv\u001b[0m\u001b[0;34m(\u001b[0m\u001b[0mzip_csv\u001b[0m\u001b[0;34m,\u001b[0m \u001b[0mdelimiter\u001b[0m \u001b[0;34m=\u001b[0m \u001b[0;34m';'\u001b[0m\u001b[0;34m)\u001b[0m\u001b[0;34m[\u001b[0m\u001b[0;34m[\u001b[0m\u001b[0;34m'Zip'\u001b[0m\u001b[0;34m,\u001b[0m\u001b[0;34m'Latitude'\u001b[0m\u001b[0;34m,\u001b[0m\u001b[0;34m'Longitude'\u001b[0m\u001b[0;34m]\u001b[0m\u001b[0;34m]\u001b[0m\u001b[0;34m\u001b[0m\u001b[0;34m\u001b[0m\u001b[0m\n",
      "\u001b[0;32m~/Documents/MADS/MILESTONE_1/MilestoneOneProject/venv/lib/python3.7/site-packages/pandas/io/parsers.py\u001b[0m in \u001b[0;36mparser_f\u001b[0;34m(filepath_or_buffer, sep, delimiter, header, names, index_col, usecols, squeeze, prefix, mangle_dupe_cols, dtype, engine, converters, true_values, false_values, skipinitialspace, skiprows, skipfooter, nrows, na_values, keep_default_na, na_filter, verbose, skip_blank_lines, parse_dates, infer_datetime_format, keep_date_col, date_parser, dayfirst, cache_dates, iterator, chunksize, compression, thousands, decimal, lineterminator, quotechar, quoting, doublequote, escapechar, comment, encoding, dialect, error_bad_lines, warn_bad_lines, delim_whitespace, low_memory, memory_map, float_precision)\u001b[0m\n\u001b[1;32m    674\u001b[0m         )\n\u001b[1;32m    675\u001b[0m \u001b[0;34m\u001b[0m\u001b[0m\n\u001b[0;32m--> 676\u001b[0;31m         \u001b[0;32mreturn\u001b[0m \u001b[0m_read\u001b[0m\u001b[0;34m(\u001b[0m\u001b[0mfilepath_or_buffer\u001b[0m\u001b[0;34m,\u001b[0m \u001b[0mkwds\u001b[0m\u001b[0;34m)\u001b[0m\u001b[0;34m\u001b[0m\u001b[0;34m\u001b[0m\u001b[0m\n\u001b[0m\u001b[1;32m    677\u001b[0m \u001b[0;34m\u001b[0m\u001b[0m\n\u001b[1;32m    678\u001b[0m     \u001b[0mparser_f\u001b[0m\u001b[0;34m.\u001b[0m\u001b[0m__name__\u001b[0m \u001b[0;34m=\u001b[0m \u001b[0mname\u001b[0m\u001b[0;34m\u001b[0m\u001b[0;34m\u001b[0m\u001b[0m\n",
      "\u001b[0;32m~/Documents/MADS/MILESTONE_1/MilestoneOneProject/venv/lib/python3.7/site-packages/pandas/io/parsers.py\u001b[0m in \u001b[0;36m_read\u001b[0;34m(filepath_or_buffer, kwds)\u001b[0m\n\u001b[1;32m    446\u001b[0m \u001b[0;34m\u001b[0m\u001b[0m\n\u001b[1;32m    447\u001b[0m     \u001b[0;31m# Create the parser.\u001b[0m\u001b[0;34m\u001b[0m\u001b[0;34m\u001b[0m\u001b[0;34m\u001b[0m\u001b[0m\n\u001b[0;32m--> 448\u001b[0;31m     \u001b[0mparser\u001b[0m \u001b[0;34m=\u001b[0m \u001b[0mTextFileReader\u001b[0m\u001b[0;34m(\u001b[0m\u001b[0mfp_or_buf\u001b[0m\u001b[0;34m,\u001b[0m \u001b[0;34m**\u001b[0m\u001b[0mkwds\u001b[0m\u001b[0;34m)\u001b[0m\u001b[0;34m\u001b[0m\u001b[0;34m\u001b[0m\u001b[0m\n\u001b[0m\u001b[1;32m    449\u001b[0m \u001b[0;34m\u001b[0m\u001b[0m\n\u001b[1;32m    450\u001b[0m     \u001b[0;32mif\u001b[0m \u001b[0mchunksize\u001b[0m \u001b[0;32mor\u001b[0m \u001b[0miterator\u001b[0m\u001b[0;34m:\u001b[0m\u001b[0;34m\u001b[0m\u001b[0;34m\u001b[0m\u001b[0m\n",
      "\u001b[0;32m~/Documents/MADS/MILESTONE_1/MilestoneOneProject/venv/lib/python3.7/site-packages/pandas/io/parsers.py\u001b[0m in \u001b[0;36m__init__\u001b[0;34m(self, f, engine, **kwds)\u001b[0m\n\u001b[1;32m    878\u001b[0m             \u001b[0mself\u001b[0m\u001b[0;34m.\u001b[0m\u001b[0moptions\u001b[0m\u001b[0;34m[\u001b[0m\u001b[0;34m\"has_index_names\"\u001b[0m\u001b[0;34m]\u001b[0m \u001b[0;34m=\u001b[0m \u001b[0mkwds\u001b[0m\u001b[0;34m[\u001b[0m\u001b[0;34m\"has_index_names\"\u001b[0m\u001b[0;34m]\u001b[0m\u001b[0;34m\u001b[0m\u001b[0;34m\u001b[0m\u001b[0m\n\u001b[1;32m    879\u001b[0m \u001b[0;34m\u001b[0m\u001b[0m\n\u001b[0;32m--> 880\u001b[0;31m         \u001b[0mself\u001b[0m\u001b[0;34m.\u001b[0m\u001b[0m_make_engine\u001b[0m\u001b[0;34m(\u001b[0m\u001b[0mself\u001b[0m\u001b[0;34m.\u001b[0m\u001b[0mengine\u001b[0m\u001b[0;34m)\u001b[0m\u001b[0;34m\u001b[0m\u001b[0;34m\u001b[0m\u001b[0m\n\u001b[0m\u001b[1;32m    881\u001b[0m \u001b[0;34m\u001b[0m\u001b[0m\n\u001b[1;32m    882\u001b[0m     \u001b[0;32mdef\u001b[0m \u001b[0mclose\u001b[0m\u001b[0;34m(\u001b[0m\u001b[0mself\u001b[0m\u001b[0;34m)\u001b[0m\u001b[0;34m:\u001b[0m\u001b[0;34m\u001b[0m\u001b[0;34m\u001b[0m\u001b[0m\n",
      "\u001b[0;32m~/Documents/MADS/MILESTONE_1/MilestoneOneProject/venv/lib/python3.7/site-packages/pandas/io/parsers.py\u001b[0m in \u001b[0;36m_make_engine\u001b[0;34m(self, engine)\u001b[0m\n\u001b[1;32m   1112\u001b[0m     \u001b[0;32mdef\u001b[0m \u001b[0m_make_engine\u001b[0m\u001b[0;34m(\u001b[0m\u001b[0mself\u001b[0m\u001b[0;34m,\u001b[0m \u001b[0mengine\u001b[0m\u001b[0;34m=\u001b[0m\u001b[0;34m\"c\"\u001b[0m\u001b[0;34m)\u001b[0m\u001b[0;34m:\u001b[0m\u001b[0;34m\u001b[0m\u001b[0;34m\u001b[0m\u001b[0m\n\u001b[1;32m   1113\u001b[0m         \u001b[0;32mif\u001b[0m \u001b[0mengine\u001b[0m \u001b[0;34m==\u001b[0m \u001b[0;34m\"c\"\u001b[0m\u001b[0;34m:\u001b[0m\u001b[0;34m\u001b[0m\u001b[0;34m\u001b[0m\u001b[0m\n\u001b[0;32m-> 1114\u001b[0;31m             \u001b[0mself\u001b[0m\u001b[0;34m.\u001b[0m\u001b[0m_engine\u001b[0m \u001b[0;34m=\u001b[0m \u001b[0mCParserWrapper\u001b[0m\u001b[0;34m(\u001b[0m\u001b[0mself\u001b[0m\u001b[0;34m.\u001b[0m\u001b[0mf\u001b[0m\u001b[0;34m,\u001b[0m \u001b[0;34m**\u001b[0m\u001b[0mself\u001b[0m\u001b[0;34m.\u001b[0m\u001b[0moptions\u001b[0m\u001b[0;34m)\u001b[0m\u001b[0;34m\u001b[0m\u001b[0;34m\u001b[0m\u001b[0m\n\u001b[0m\u001b[1;32m   1115\u001b[0m         \u001b[0;32melse\u001b[0m\u001b[0;34m:\u001b[0m\u001b[0;34m\u001b[0m\u001b[0;34m\u001b[0m\u001b[0m\n\u001b[1;32m   1116\u001b[0m             \u001b[0;32mif\u001b[0m \u001b[0mengine\u001b[0m \u001b[0;34m==\u001b[0m \u001b[0;34m\"python\"\u001b[0m\u001b[0;34m:\u001b[0m\u001b[0;34m\u001b[0m\u001b[0;34m\u001b[0m\u001b[0m\n",
      "\u001b[0;32m~/Documents/MADS/MILESTONE_1/MilestoneOneProject/venv/lib/python3.7/site-packages/pandas/io/parsers.py\u001b[0m in \u001b[0;36m__init__\u001b[0;34m(self, src, **kwds)\u001b[0m\n\u001b[1;32m   1889\u001b[0m         \u001b[0mkwds\u001b[0m\u001b[0;34m[\u001b[0m\u001b[0;34m\"usecols\"\u001b[0m\u001b[0;34m]\u001b[0m \u001b[0;34m=\u001b[0m \u001b[0mself\u001b[0m\u001b[0;34m.\u001b[0m\u001b[0musecols\u001b[0m\u001b[0;34m\u001b[0m\u001b[0;34m\u001b[0m\u001b[0m\n\u001b[1;32m   1890\u001b[0m \u001b[0;34m\u001b[0m\u001b[0m\n\u001b[0;32m-> 1891\u001b[0;31m         \u001b[0mself\u001b[0m\u001b[0;34m.\u001b[0m\u001b[0m_reader\u001b[0m \u001b[0;34m=\u001b[0m \u001b[0mparsers\u001b[0m\u001b[0;34m.\u001b[0m\u001b[0mTextReader\u001b[0m\u001b[0;34m(\u001b[0m\u001b[0msrc\u001b[0m\u001b[0;34m,\u001b[0m \u001b[0;34m**\u001b[0m\u001b[0mkwds\u001b[0m\u001b[0;34m)\u001b[0m\u001b[0;34m\u001b[0m\u001b[0;34m\u001b[0m\u001b[0m\n\u001b[0m\u001b[1;32m   1892\u001b[0m         \u001b[0mself\u001b[0m\u001b[0;34m.\u001b[0m\u001b[0munnamed_cols\u001b[0m \u001b[0;34m=\u001b[0m \u001b[0mself\u001b[0m\u001b[0;34m.\u001b[0m\u001b[0m_reader\u001b[0m\u001b[0;34m.\u001b[0m\u001b[0munnamed_cols\u001b[0m\u001b[0;34m\u001b[0m\u001b[0;34m\u001b[0m\u001b[0m\n\u001b[1;32m   1893\u001b[0m \u001b[0;34m\u001b[0m\u001b[0m\n",
      "\u001b[0;32mpandas/_libs/parsers.pyx\u001b[0m in \u001b[0;36mpandas._libs.parsers.TextReader.__cinit__\u001b[0;34m()\u001b[0m\n",
      "\u001b[0;32mpandas/_libs/parsers.pyx\u001b[0m in \u001b[0;36mpandas._libs.parsers.TextReader._setup_parser_source\u001b[0;34m()\u001b[0m\n",
      "\u001b[0;31mFileNotFoundError\u001b[0m: [Errno 2] File USDA_file.csv does not exist: 'USDA_file.csv'"
     ]
    }
   ],
   "source": [
    "import ipywidgets as widgets\n",
    "import pgeocode\n",
    "text=widgets.Text(\n",
    "    value='Enter Zip Code',\n",
    "    placeholder='30082',\n",
    "    description='Zip:',\n",
    "    disabled=False\n",
    ")\n",
    "display(text)\n",
    "\n",
    "def get_lat_long(zip_):\n",
    "    # using a library called pgeocode\n",
    "    nomi = pgeocode.Nominatim('US')\n",
    "    geoinfo = nomi.query_postal_code(zip_)\n",
    "    lat = geoinfo.loc['latitude']\n",
    "    long = geoinfo.loc['longitude']\n",
    "    return lat, long\n",
    "\n",
    "def callback(wdgt):\n",
    "    zip_code_in = wdgt.value\n",
    "    Lat_in, Lon_in = get_lat_long(zip_code_in)\n",
    "    farm_to_face()\n",
    "    #print(zip_code_in)\n",
    "\n",
    "\n"
   ]
  },
  {
   "cell_type": "code",
   "execution_count": 35,
   "metadata": {},
   "outputs": [],
   "source": [
    "text.on_submit(callback)"
   ]
  }
 ],
 "metadata": {
  "kernelspec": {
   "display_name": "venv",
   "language": "python",
   "name": "venv"
  },
  "language_info": {
   "codemirror_mode": {
    "name": "ipython",
    "version": 3
   },
   "file_extension": ".py",
   "mimetype": "text/x-python",
   "name": "python",
   "nbconvert_exporter": "python",
   "pygments_lexer": "ipython3",
   "version": "3.7.3"
  }
 },
 "nbformat": 4,
 "nbformat_minor": 2
}
