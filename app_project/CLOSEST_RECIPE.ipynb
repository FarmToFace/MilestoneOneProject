{
 "cells": [
  {
   "cell_type": "code",
   "execution_count": 404,
   "metadata": {},
   "outputs": [],
   "source": [
    "import pandas as pd\n",
    "import numpy as np\n",
    "import difflib\n",
    "from haversine import haversine, Unit\n",
    "import folium"
   ]
  },
  {
   "cell_type": "code",
   "execution_count": 405,
   "metadata": {},
   "outputs": [],
   "source": [
    "#this function just loads necessary cleaned data and sets necessary parameters for later operations\n",
    "def input_take(USDA_csv,Recipe_csv):\n",
    "    farm = pd.read_csv(USDA_csv)\n",
    "    rec = pd.read_csv(Recipe_csv)\n",
    "    rec['title'] = recipes['title'].astype(str)\n",
    "    rec['matched_ingredient'] = recipes['matched_ingredient'].astype(str)\n",
    "    farm['LAT'] = farms['LAT'].astype(float)\n",
    "    farm['LON'] = farms['LON'].astype(float)\n",
    "    farm['INGREDIENT']=farms['INGREDIENT'].apply(lambda x: x.lower())\n",
    "    return [farm,rec]\n",
    "\n",
    "farms, recipes = input_take(\"USDA_file.csv\",\"Recipe_file.csv\")"
   ]
  },
  {
   "cell_type": "code",
   "execution_count": 406,
   "metadata": {},
   "outputs": [
    {
     "name": "stdout",
     "output_type": "stream",
     "text": [
      "Please enter a recipe (e.g. Pasta Putanesca): chicken fontina\n"
     ]
    }
   ],
   "source": [
    "#INPUT CELL:\n",
    "input_recipe = input(\"Please enter a recipe (e.g. Pasta Putanesca): \")\n",
    "Lat_in = 35.2220\n",
    "Lon_in = -101.8313\n"
   ]
  },
  {
   "cell_type": "code",
   "execution_count": 407,
   "metadata": {},
   "outputs": [],
   "source": [
    "#function to find name matches to the input recipe search, can vary number of returned recipes with minimum similarity\n",
    "def match_generator(x,y,z=3,u=0.1):\n",
    "    a = y.title.unique().tolist()\n",
    "    b = difflib.get_close_matches(x, a, n=z, cutoff=u)\n",
    "    return y[y.title.isin(b)]\n",
    "\n",
    "match_df = match_generator(input_recipe,recipes)"
   ]
  },
  {
   "cell_type": "code",
   "execution_count": 408,
   "metadata": {},
   "outputs": [
    {
     "name": "stderr",
     "output_type": "stream",
     "text": [
      "/Users/networkadministrator/anaconda3/lib/python3.7/site-packages/pandas/core/indexing.py:362: SettingWithCopyWarning: \n",
      "A value is trying to be set on a copy of a slice from a DataFrame.\n",
      "Try using .loc[row_indexer,col_indexer] = value instead\n",
      "\n",
      "See the caveats in the documentation: http://pandas.pydata.org/pandas-docs/stable/indexing.html#indexing-view-versus-copy\n",
      "  self.obj[key] = _infer_fill_value(value)\n",
      "/Users/networkadministrator/anaconda3/lib/python3.7/site-packages/pandas/core/indexing.py:543: SettingWithCopyWarning: \n",
      "A value is trying to be set on a copy of a slice from a DataFrame.\n",
      "Try using .loc[row_indexer,col_indexer] = value instead\n",
      "\n",
      "See the caveats in the documentation: http://pandas.pydata.org/pandas-docs/stable/indexing.html#indexing-view-versus-copy\n",
      "  self.obj[item] = s\n"
     ]
    }
   ],
   "source": [
    "#function to search for all ingredient entries from USDA which match items in the returned recipes \n",
    "#and calculate distances \n",
    "def farm_finder(a,b,Lat_1,Lon_1):\n",
    "    i_list = a.matched_ingredient.unique().tolist()\n",
    "    fs = b[b.INGREDIENT.isin(i_list)]\n",
    "    fs.loc[:,'es'] = fs.apply(lambda x: haversine((Lat_1,Lon_1),(x.LAT, x.LON),unit='mi'), axis=1)\n",
    "    return fs\n",
    " \n",
    "farm_search = farm_finder(match_df,farms,Lat_in,Lon_in)"
   ]
  },
  {
   "cell_type": "code",
   "execution_count": 409,
   "metadata": {},
   "outputs": [],
   "source": [
    "#functions to return minimum distance for an ingredient in USDA data \n",
    "def my_agg(x):\n",
    "    names = {\n",
    "        'score': x['es'].min()}\n",
    "\n",
    "    return pd.Series(names, index=['score'])\n",
    "\n",
    "def min_agg(x):\n",
    "    return x[x.groupby(['INGREDIENT'])['es'].transform(min) == x['es']] \\\n",
    "    .groupby(['INGREDIENT','LAT','LON']).apply(my_agg).reset_index().set_index(['INGREDIENT'])\n",
    "\n",
    "beta = min_agg(farm_search)\n",
    "\n",
    "\n",
    "#function to attach minimum distances for ingredients to recipe data\n",
    "def score_ex(x):\n",
    "    try:\n",
    "        alpha = beta.loc[x,'score']\n",
    "        kappa = beta.loc[x,'LAT']\n",
    "        gamma = beta.loc[x,'LON']\n",
    "    except:\n",
    "        alpha = np.NaN\n",
    "        kappa = np.NaN\n",
    "        gamma = np.NaN\n",
    "    \n",
    "    names = {\n",
    "        'score': alpha,\n",
    "        'Lat':  kappa,\n",
    "        'Lon': gamma\n",
    "        }\n",
    "\n",
    "    return pd.Series(names, index=['score', 'Lat', 'Lon'])\n",
    "\n",
    "#function which applies the score_ex function, returns the entry with the lowest average ingredient distance,\n",
    "#returns a frame to show found and non-found ingredients (show n of N found information),\n",
    "#and returns a frame with no NaN values, grouping ingredients on lat/ lon for mapping purposes to show all ingredients\n",
    "def merger(x):\n",
    "    match_2 = x.merge(x.matched_ingredient.apply(lambda s: score_ex(s)), left_index=True, right_index=True)\n",
    "    win = match_2.groupby('title').score.agg(['mean']).sort_values('mean', ascending=True).reset_index().title.iloc[0]\n",
    "    closest = match_2[match_2['title']==win][['original','Lat','Lon']]\n",
    "    frame = closest.dropna()[['original','Lat','Lon']].groupby(['Lat', 'Lon']).original.apply(list).reset_index()\n",
    "    return [win,closest,frame]\n",
    "winner, closest_df, closest_frame = merger(match_df)\n"
   ]
  },
  {
   "cell_type": "code",
   "execution_count": 410,
   "metadata": {
    "scrolled": false
   },
   "outputs": [
    {
     "name": "stdout",
     "output_type": "stream",
     "text": [
      "The closest matching recipe is: Chicken Athena \n",
      "8 of 10 ingredients located\n"
     ]
    },
    {
     "data": {
      "text/html": [
       "<div style=\"width:100%;\"><div style=\"position:relative;width:100%;height:0;padding-bottom:60%;\"><iframe src=\"data:text/html;charset=utf-8;base64,PCFET0NUWVBFIGh0bWw+CjxoZWFkPiAgICAKICAgIDxtZXRhIGh0dHAtZXF1aXY9ImNvbnRlbnQtdHlwZSIgY29udGVudD0idGV4dC9odG1sOyBjaGFyc2V0PVVURi04IiAvPgogICAgCiAgICAgICAgPHNjcmlwdD4KICAgICAgICAgICAgTF9OT19UT1VDSCA9IGZhbHNlOwogICAgICAgICAgICBMX0RJU0FCTEVfM0QgPSBmYWxzZTsKICAgICAgICA8L3NjcmlwdD4KICAgIAogICAgPHNjcmlwdCBzcmM9Imh0dHBzOi8vY2RuLmpzZGVsaXZyLm5ldC9ucG0vbGVhZmxldEAxLjUuMS9kaXN0L2xlYWZsZXQuanMiPjwvc2NyaXB0PgogICAgPHNjcmlwdCBzcmM9Imh0dHBzOi8vY29kZS5qcXVlcnkuY29tL2pxdWVyeS0xLjEyLjQubWluLmpzIj48L3NjcmlwdD4KICAgIDxzY3JpcHQgc3JjPSJodHRwczovL21heGNkbi5ib290c3RyYXBjZG4uY29tL2Jvb3RzdHJhcC8zLjIuMC9qcy9ib290c3RyYXAubWluLmpzIj48L3NjcmlwdD4KICAgIDxzY3JpcHQgc3JjPSJodHRwczovL2NkbmpzLmNsb3VkZmxhcmUuY29tL2FqYXgvbGlicy9MZWFmbGV0LmF3ZXNvbWUtbWFya2Vycy8yLjAuMi9sZWFmbGV0LmF3ZXNvbWUtbWFya2Vycy5qcyI+PC9zY3JpcHQ+CiAgICA8bGluayByZWw9InN0eWxlc2hlZXQiIGhyZWY9Imh0dHBzOi8vY2RuLmpzZGVsaXZyLm5ldC9ucG0vbGVhZmxldEAxLjUuMS9kaXN0L2xlYWZsZXQuY3NzIi8+CiAgICA8bGluayByZWw9InN0eWxlc2hlZXQiIGhyZWY9Imh0dHBzOi8vbWF4Y2RuLmJvb3RzdHJhcGNkbi5jb20vYm9vdHN0cmFwLzMuMi4wL2Nzcy9ib290c3RyYXAubWluLmNzcyIvPgogICAgPGxpbmsgcmVsPSJzdHlsZXNoZWV0IiBocmVmPSJodHRwczovL21heGNkbi5ib290c3RyYXBjZG4uY29tL2Jvb3RzdHJhcC8zLjIuMC9jc3MvYm9vdHN0cmFwLXRoZW1lLm1pbi5jc3MiLz4KICAgIDxsaW5rIHJlbD0ic3R5bGVzaGVldCIgaHJlZj0iaHR0cHM6Ly9tYXhjZG4uYm9vdHN0cmFwY2RuLmNvbS9mb250LWF3ZXNvbWUvNC42LjMvY3NzL2ZvbnQtYXdlc29tZS5taW4uY3NzIi8+CiAgICA8bGluayByZWw9InN0eWxlc2hlZXQiIGhyZWY9Imh0dHBzOi8vY2RuanMuY2xvdWRmbGFyZS5jb20vYWpheC9saWJzL0xlYWZsZXQuYXdlc29tZS1tYXJrZXJzLzIuMC4yL2xlYWZsZXQuYXdlc29tZS1tYXJrZXJzLmNzcyIvPgogICAgPGxpbmsgcmVsPSJzdHlsZXNoZWV0IiBocmVmPSJodHRwczovL3Jhd2Nkbi5naXRoYWNrLmNvbS9weXRob24tdmlzdWFsaXphdGlvbi9mb2xpdW0vbWFzdGVyL2ZvbGl1bS90ZW1wbGF0ZXMvbGVhZmxldC5hd2Vzb21lLnJvdGF0ZS5jc3MiLz4KICAgIDxzdHlsZT5odG1sLCBib2R5IHt3aWR0aDogMTAwJTtoZWlnaHQ6IDEwMCU7bWFyZ2luOiAwO3BhZGRpbmc6IDA7fTwvc3R5bGU+CiAgICA8c3R5bGU+I21hcCB7cG9zaXRpb246YWJzb2x1dGU7dG9wOjA7Ym90dG9tOjA7cmlnaHQ6MDtsZWZ0OjA7fTwvc3R5bGU+CiAgICAKICAgICAgICAgICAgPG1ldGEgbmFtZT0idmlld3BvcnQiIGNvbnRlbnQ9IndpZHRoPWRldmljZS13aWR0aCwKICAgICAgICAgICAgICAgIGluaXRpYWwtc2NhbGU9MS4wLCBtYXhpbXVtLXNjYWxlPTEuMCwgdXNlci1zY2FsYWJsZT1ubyIgLz4KICAgICAgICAgICAgPHN0eWxlPgogICAgICAgICAgICAgICAgI21hcF81ODBmOTYzNDA4MDQ0ZmY3YWU4ZjYwODY3MjM5YmEwMyB7CiAgICAgICAgICAgICAgICAgICAgcG9zaXRpb246IHJlbGF0aXZlOwogICAgICAgICAgICAgICAgICAgIHdpZHRoOiAxMDAuMCU7CiAgICAgICAgICAgICAgICAgICAgaGVpZ2h0OiAxMDAuMCU7CiAgICAgICAgICAgICAgICAgICAgbGVmdDogMC4wJTsKICAgICAgICAgICAgICAgICAgICB0b3A6IDAuMCU7CiAgICAgICAgICAgICAgICB9CiAgICAgICAgICAgIDwvc3R5bGU+CiAgICAgICAgCjwvaGVhZD4KPGJvZHk+ICAgIAogICAgCiAgICAgICAgICAgIDxkaXYgY2xhc3M9ImZvbGl1bS1tYXAiIGlkPSJtYXBfNTgwZjk2MzQwODA0NGZmN2FlOGY2MDg2NzIzOWJhMDMiID48L2Rpdj4KICAgICAgICAKPC9ib2R5Pgo8c2NyaXB0PiAgICAKICAgIAogICAgICAgICAgICB2YXIgbWFwXzU4MGY5NjM0MDgwNDRmZjdhZThmNjA4NjcyMzliYTAzID0gTC5tYXAoCiAgICAgICAgICAgICAgICAibWFwXzU4MGY5NjM0MDgwNDRmZjdhZThmNjA4NjcyMzliYTAzIiwKICAgICAgICAgICAgICAgIHsKICAgICAgICAgICAgICAgICAgICBjZW50ZXI6IFszNS4yMjIsIC0xMDEuODMxM10sCiAgICAgICAgICAgICAgICAgICAgY3JzOiBMLkNSUy5FUFNHMzg1NywKICAgICAgICAgICAgICAgICAgICB6b29tOiAxMCwKICAgICAgICAgICAgICAgICAgICB6b29tQ29udHJvbDogdHJ1ZSwKICAgICAgICAgICAgICAgICAgICBwcmVmZXJDYW52YXM6IGZhbHNlLAogICAgICAgICAgICAgICAgfQogICAgICAgICAgICApOwoKICAgICAgICAgICAgCgogICAgICAgIAogICAgCiAgICAgICAgICAgIHZhciB0aWxlX2xheWVyXzhkYzRjNTExYTFkNjRkYjU4NjMzNjBlZGYxYjg4MTQ2ID0gTC50aWxlTGF5ZXIoCiAgICAgICAgICAgICAgICAiaHR0cHM6Ly97c30udGlsZS5vcGVuc3RyZWV0bWFwLm9yZy97en0ve3h9L3t5fS5wbmciLAogICAgICAgICAgICAgICAgeyJhdHRyaWJ1dGlvbiI6ICJEYXRhIGJ5IFx1MDAyNmNvcHk7IFx1MDAzY2EgaHJlZj1cImh0dHA6Ly9vcGVuc3RyZWV0bWFwLm9yZ1wiXHUwMDNlT3BlblN0cmVldE1hcFx1MDAzYy9hXHUwMDNlLCB1bmRlciBcdTAwM2NhIGhyZWY9XCJodHRwOi8vd3d3Lm9wZW5zdHJlZXRtYXAub3JnL2NvcHlyaWdodFwiXHUwMDNlT0RiTFx1MDAzYy9hXHUwMDNlLiIsICJkZXRlY3RSZXRpbmEiOiBmYWxzZSwgIm1heE5hdGl2ZVpvb20iOiAxOCwgIm1heFpvb20iOiAxOCwgIm1pblpvb20iOiAwLCAibm9XcmFwIjogZmFsc2UsICJvcGFjaXR5IjogMSwgInN1YmRvbWFpbnMiOiAiYWJjIiwgInRtcyI6IGZhbHNlfQogICAgICAgICAgICApLmFkZFRvKG1hcF81ODBmOTYzNDA4MDQ0ZmY3YWU4ZjYwODY3MjM5YmEwMyk7CiAgICAgICAgCiAgICAKICAgICAgICAgICAgdmFyIHBvbHlfbGluZV8wMDVjNDRhOWE2OWE0NDk3OWFhY2M5OTQxNTQ0ZDNjMiA9IEwucG9seWxpbmUoCiAgICAgICAgICAgICAgICBbWzMyLjIxNzk0MiwgLTk3Ljc2OTIxMV0sIFszNS4yMjIsIC0xMDEuODMxM11dLAogICAgICAgICAgICAgICAgeyJidWJibGluZ01vdXNlRXZlbnRzIjogdHJ1ZSwgImNvbG9yIjogIiMzMzg4ZmYiLCAiZGFzaEFycmF5IjogbnVsbCwgImRhc2hPZmZzZXQiOiBudWxsLCAiZmlsbCI6IGZhbHNlLCAiZmlsbENvbG9yIjogIiMzMzg4ZmYiLCAiZmlsbE9wYWNpdHkiOiAwLjIsICJmaWxsUnVsZSI6ICJldmVub2RkIiwgImxpbmVDYXAiOiAicm91bmQiLCAibGluZUpvaW4iOiAicm91bmQiLCAibm9DbGlwIjogZmFsc2UsICJvcGFjaXR5IjogMS4wLCAic21vb3RoRmFjdG9yIjogMS4wLCAic3Ryb2tlIjogdHJ1ZSwgIndlaWdodCI6IDV9CiAgICAgICAgICAgICkuYWRkVG8obWFwXzU4MGY5NjM0MDgwNDRmZjdhZThmNjA4NjcyMzliYTAzKTsKICAgICAgICAKICAgIAogICAgICAgICAgICB2YXIgbWFya2VyX2NiMTJjMjVlMWI2MzRmNDU4YzZiYjEzZDM2NWEzZjdjID0gTC5tYXJrZXIoCiAgICAgICAgICAgICAgICBbMzIuMjE3OTQyLCAtOTcuNzY5MjExXSwKICAgICAgICAgICAgICAgIHt9CiAgICAgICAgICAgICkuYWRkVG8obWFwXzU4MGY5NjM0MDgwNDRmZjdhZThmNjA4NjcyMzliYTAzKTsKICAgICAgICAKICAgIAogICAgICAgIHZhciBwb3B1cF9jN2Y3M2NjZjI5YWU0YjQwYjc5YTUyNzBmZDVkN2FhMCA9IEwucG9wdXAoeyJtYXhXaWR0aCI6ICIxMDAlIn0pOwoKICAgICAgICAKICAgICAgICAgICAgdmFyIGh0bWxfNjhiNDRlYjM3NzE0NDI1Y2FmMWNmN2FmZWQ5MGU5OTYgPSAkKGA8ZGl2IGlkPSJodG1sXzY4YjQ0ZWIzNzcxNDQyNWNhZjFjZjdhZmVkOTBlOTk2IiBzdHlsZT0id2lkdGg6IDEwMC4wJTsgaGVpZ2h0OiAxMDAuMCU7Ij5bJzMgdGFibGVzcG9vbnMgb2xpdmUgb2lsJywgJzEyIGJsYWNrIGJyaW5lLWN1cmVkIG9saXZlcyddPC9kaXY+YClbMF07CiAgICAgICAgICAgIHBvcHVwX2M3ZjczY2NmMjlhZTRiNDBiNzlhNTI3MGZkNWQ3YWEwLnNldENvbnRlbnQoaHRtbF82OGI0NGViMzc3MTQ0MjVjYWYxY2Y3YWZlZDkwZTk5Nik7CiAgICAgICAgCgogICAgICAgIG1hcmtlcl9jYjEyYzI1ZTFiNjM0ZjQ1OGM2YmIxM2QzNjVhM2Y3Yy5iaW5kUG9wdXAocG9wdXBfYzdmNzNjY2YyOWFlNGI0MGI3OWE1MjcwZmQ1ZDdhYTApCiAgICAgICAgOwoKICAgICAgICAKICAgIAogICAgCiAgICAgICAgICAgIHZhciBwb2x5X2xpbmVfMzFjZDI0ODk4NGY3NDM1ZGI3NjkxMGFkYzlhMzc3ZjggPSBMLnBvbHlsaW5lKAogICAgICAgICAgICAgICAgW1szNC41NzI5ODQwMDAwMDAwMDUsIC0xMDMuMzQ2MDU1XSwgWzM1LjIyMiwgLTEwMS44MzEzXV0sCiAgICAgICAgICAgICAgICB7ImJ1YmJsaW5nTW91c2VFdmVudHMiOiB0cnVlLCAiY29sb3IiOiAiIzMzODhmZiIsICJkYXNoQXJyYXkiOiBudWxsLCAiZGFzaE9mZnNldCI6IG51bGwsICJmaWxsIjogZmFsc2UsICJmaWxsQ29sb3IiOiAiIzMzODhmZiIsICJmaWxsT3BhY2l0eSI6IDAuMiwgImZpbGxSdWxlIjogImV2ZW5vZGQiLCAibGluZUNhcCI6ICJyb3VuZCIsICJsaW5lSm9pbiI6ICJyb3VuZCIsICJub0NsaXAiOiBmYWxzZSwgIm9wYWNpdHkiOiAxLjAsICJzbW9vdGhGYWN0b3IiOiAxLjAsICJzdHJva2UiOiB0cnVlLCAid2VpZ2h0IjogNX0KICAgICAgICAgICAgKS5hZGRUbyhtYXBfNTgwZjk2MzQwODA0NGZmN2FlOGY2MDg2NzIzOWJhMDMpOwogICAgICAgIAogICAgCiAgICAgICAgICAgIHZhciBtYXJrZXJfNjc5ODU5MzQzYTRjNDU4OTg5MDBiYTRhMTRlNjVjMGYgPSBMLm1hcmtlcigKICAgICAgICAgICAgICAgIFszNC41NzI5ODQwMDAwMDAwMDUsIC0xMDMuMzQ2MDU1XSwKICAgICAgICAgICAgICAgIHt9CiAgICAgICAgICAgICkuYWRkVG8obWFwXzU4MGY5NjM0MDgwNDRmZjdhZThmNjA4NjcyMzliYTAzKTsKICAgICAgICAKICAgIAogICAgICAgIHZhciBwb3B1cF80NzMyZmExNjYzMTA0ODBkYWU4Nzc0OGI2MTM0MmRjOSA9IEwucG9wdXAoeyJtYXhXaWR0aCI6ICIxMDAlIn0pOwoKICAgICAgICAKICAgICAgICAgICAgdmFyIGh0bWxfZTI4OWRmZTRiNjgxNDRkODlmMmRkY2JkODA0NDI1OWQgPSAkKGA8ZGl2IGlkPSJodG1sX2UyODlkZmU0YjY4MTQ0ZDg5ZjJkZGNiZDgwNDQyNTlkIiBzdHlsZT0id2lkdGg6IDEwMC4wJTsgaGVpZ2h0OiAxMDAuMCU7Ij5bJzEgMS8yIHRlYXNwb29uIGFuaXNlZWQnLCAnMSB0YWJsZXNwb29uIGRyaWVkIG9yZWdhbm8nXTwvZGl2PmApWzBdOwogICAgICAgICAgICBwb3B1cF80NzMyZmExNjYzMTA0ODBkYWU4Nzc0OGI2MTM0MmRjOS5zZXRDb250ZW50KGh0bWxfZTI4OWRmZTRiNjgxNDRkODlmMmRkY2JkODA0NDI1OWQpOwogICAgICAgIAoKICAgICAgICBtYXJrZXJfNjc5ODU5MzQzYTRjNDU4OTg5MDBiYTRhMTRlNjVjMGYuYmluZFBvcHVwKHBvcHVwXzQ3MzJmYTE2NjMxMDQ4MGRhZTg3NzQ4YjYxMzQyZGM5KQogICAgICAgIDsKCiAgICAgICAgCiAgICAKICAgIAogICAgICAgICAgICB2YXIgcG9seV9saW5lX2Y4MWE1ZGMzYjVmYjRiNjM4MjQ1MjVkYWE4ZGUxYWNmID0gTC5wb2x5bGluZSgKICAgICAgICAgICAgICAgIFtbMzQuOTYyNTI4OTk5OTk5OTk2LCAtMTAxLjg5NTU0N10sIFszNS4yMjIsIC0xMDEuODMxM11dLAogICAgICAgICAgICAgICAgeyJidWJibGluZ01vdXNlRXZlbnRzIjogdHJ1ZSwgImNvbG9yIjogIiMzMzg4ZmYiLCAiZGFzaEFycmF5IjogbnVsbCwgImRhc2hPZmZzZXQiOiBudWxsLCAiZmlsbCI6IGZhbHNlLCAiZmlsbENvbG9yIjogIiMzMzg4ZmYiLCAiZmlsbE9wYWNpdHkiOiAwLjIsICJmaWxsUnVsZSI6ICJldmVub2RkIiwgImxpbmVDYXAiOiAicm91bmQiLCAibGluZUpvaW4iOiAicm91bmQiLCAibm9DbGlwIjogZmFsc2UsICJvcGFjaXR5IjogMS4wLCAic21vb3RoRmFjdG9yIjogMS4wLCAic3Ryb2tlIjogdHJ1ZSwgIndlaWdodCI6IDV9CiAgICAgICAgICAgICkuYWRkVG8obWFwXzU4MGY5NjM0MDgwNDRmZjdhZThmNjA4NjcyMzliYTAzKTsKICAgICAgICAKICAgIAogICAgICAgICAgICB2YXIgbWFya2VyX2FhYTlkOTBjYjc4ZDQ2NDY4NGEzZDMyY2JlZjUwNTY4ID0gTC5tYXJrZXIoCiAgICAgICAgICAgICAgICBbMzQuOTYyNTI4OTk5OTk5OTk2LCAtMTAxLjg5NTU0N10sCiAgICAgICAgICAgICAgICB7fQogICAgICAgICAgICApLmFkZFRvKG1hcF81ODBmOTYzNDA4MDQ0ZmY3YWU4ZjYwODY3MjM5YmEwMyk7CiAgICAgICAgCiAgICAKICAgICAgICB2YXIgcG9wdXBfNTBlMGNjNzM4YjRjNGIwZTg0N2QwMjQxYmFjZmEzNDQgPSBMLnBvcHVwKHsibWF4V2lkdGgiOiAiMTAwJSJ9KTsKCiAgICAgICAgCiAgICAgICAgICAgIHZhciBodG1sXzU5ZDEwODYzMzZkNzQ3ZDliYmZhMTc0OTk5NjYxZTJkID0gJChgPGRpdiBpZD0iaHRtbF81OWQxMDg2MzM2ZDc0N2Q5YmJmYTE3NDk5OTY2MWUyZCIgc3R5bGU9IndpZHRoOiAxMDAuMCU7IGhlaWdodDogMTAwLjAlOyI+Wyc2IGdhcmxpYyBjbG92ZXMnLCAnMSAyOC1vdW5jZSBjYW4gSXRhbGlhbiBwbHVtIHRvbWF0b2VzJ108L2Rpdj5gKVswXTsKICAgICAgICAgICAgcG9wdXBfNTBlMGNjNzM4YjRjNGIwZTg0N2QwMjQxYmFjZmEzNDQuc2V0Q29udGVudChodG1sXzU5ZDEwODYzMzZkNzQ3ZDliYmZhMTc0OTk5NjYxZTJkKTsKICAgICAgICAKCiAgICAgICAgbWFya2VyX2FhYTlkOTBjYjc4ZDQ2NDY4NGEzZDMyY2JlZjUwNTY4LmJpbmRQb3B1cChwb3B1cF81MGUwY2M3MzhiNGM0YjBlODQ3ZDAyNDFiYWNmYTM0NCkKICAgICAgICA7CgogICAgICAgIAogICAgCiAgICAKICAgICAgICAgICAgdmFyIHBvbHlfbGluZV9kYzdjYjYwOTg0YmQ0ZGVjYjM2NDUxYzdiMzdlNzRlYiA9IEwucG9seWxpbmUoCiAgICAgICAgICAgICAgICBbWzM1LjM5ODY3NSwgLTEwMS44OTM4MDRdLCBbMzUuMjIyLCAtMTAxLjgzMTNdXSwKICAgICAgICAgICAgICAgIHsiYnViYmxpbmdNb3VzZUV2ZW50cyI6IHRydWUsICJjb2xvciI6ICIjMzM4OGZmIiwgImRhc2hBcnJheSI6IG51bGwsICJkYXNoT2Zmc2V0IjogbnVsbCwgImZpbGwiOiBmYWxzZSwgImZpbGxDb2xvciI6ICIjMzM4OGZmIiwgImZpbGxPcGFjaXR5IjogMC4yLCAiZmlsbFJ1bGUiOiAiZXZlbm9kZCIsICJsaW5lQ2FwIjogInJvdW5kIiwgImxpbmVKb2luIjogInJvdW5kIiwgIm5vQ2xpcCI6IGZhbHNlLCAib3BhY2l0eSI6IDEuMCwgInNtb290aEZhY3RvciI6IDEuMCwgInN0cm9rZSI6IHRydWUsICJ3ZWlnaHQiOiA1fQogICAgICAgICAgICApLmFkZFRvKG1hcF81ODBmOTYzNDA4MDQ0ZmY3YWU4ZjYwODY3MjM5YmEwMyk7CiAgICAgICAgCiAgICAKICAgICAgICAgICAgdmFyIG1hcmtlcl8zMmZiNzM4YjNlY2U0ZGY2YWZmZTY1YWY4ZTg0ZDk5NSA9IEwubWFya2VyKAogICAgICAgICAgICAgICAgWzM1LjM5ODY3NSwgLTEwMS44OTM4MDRdLAogICAgICAgICAgICAgICAge30KICAgICAgICAgICAgKS5hZGRUbyhtYXBfNTgwZjk2MzQwODA0NGZmN2FlOGY2MDg2NzIzOWJhMDMpOwogICAgICAgIAogICAgCiAgICAgICAgdmFyIHBvcHVwX2U4ZmI1MWY0NDc3OTQ0M2Q4NDE3MWFlOTZlMGQ4MzFjID0gTC5wb3B1cCh7Im1heFdpZHRoIjogIjEwMCUifSk7CgogICAgICAgIAogICAgICAgICAgICB2YXIgaHRtbF85YzgwYjJmZGUxNzA0Nzc0YTk1YzE5NGM3MjlhYzllOCA9ICQoYDxkaXYgaWQ9Imh0bWxfOWM4MGIyZmRlMTcwNDc3NGE5NWMxOTRjNzI5YWM5ZTgiIHN0eWxlPSJ3aWR0aDogMTAwLjAlOyBoZWlnaHQ6IDEwMC4wJTsiPlsnMSAzIDEvMiBwb3VuZCBjaGlja2VuJywgJzEvMiBjdXAgbG93LXNhbHQgY2hpY2tlbiBicm90aCddPC9kaXY+YClbMF07CiAgICAgICAgICAgIHBvcHVwX2U4ZmI1MWY0NDc3OTQ0M2Q4NDE3MWFlOTZlMGQ4MzFjLnNldENvbnRlbnQoaHRtbF85YzgwYjJmZGUxNzA0Nzc0YTk1YzE5NGM3MjlhYzllOCk7CiAgICAgICAgCgogICAgICAgIG1hcmtlcl8zMmZiNzM4YjNlY2U0ZGY2YWZmZTY1YWY4ZTg0ZDk5NS5iaW5kUG9wdXAocG9wdXBfZThmYjUxZjQ0Nzc5NDQzZDg0MTcxYWU5NmUwZDgzMWMpCiAgICAgICAgOwoKICAgICAgICAKICAgIAogICAgCiAgICAgICAgICAgIG1hcF81ODBmOTYzNDA4MDQ0ZmY3YWU4ZjYwODY3MjM5YmEwMy5maXRCb3VuZHMoCiAgICAgICAgICAgICAgICBbWzMyLjIxNzk0MiwgLTEwMy4zNDYwNTVdLCBbMzUuMzk4Njc1LCAtOTcuNzY5MjExXV0sCiAgICAgICAgICAgICAgICB7fQogICAgICAgICAgICApOwogICAgICAgIAo8L3NjcmlwdD4=\" style=\"position:absolute;width:100%;height:100%;left:0;top:0;border:none !important;\" allowfullscreen webkitallowfullscreen mozallowfullscreen></iframe></div></div>"
      ],
      "text/plain": [
       "<folium.folium.Map at 0x7fb631c84470>"
      ]
     },
     "metadata": {},
     "output_type": "display_data"
    }
   ],
   "source": [
    "#function which maps closest sources of ingredients for the recipe with the closest average distance of sourced \n",
    "#ingredients, along with printing information.\n",
    "def face_mapper(a,b,c):\n",
    "    frame_in = pd.DataFrame({'original': ['Home'], 'Lat': [Lat_in], 'Lon': [Lon_in]})   \n",
    "    m=folium.Map(location=[Lat_in,Lon_in])\n",
    "    for item in range(len(c)):\n",
    "        df_new = pd.concat([c.iloc[[item]], frame_in], sort=False)\n",
    "\n",
    "        points = list(df_new[['Lat','Lon']].to_records(index=False))\n",
    "    \n",
    "\n",
    "        try:\n",
    "            folium.PolyLine(locations=points,weight=5).add_to(m)\n",
    "            folium.Marker([df_new[\"Lat\"].iloc[0],df_new[\"Lon\"].iloc[0]], \n",
    "                          popup=df_new['original'].iloc[0]).add_to(m)\n",
    "\n",
    "        except: \n",
    "            print('Farm to Face Map has been Canned')\n",
    "        \n",
    "    m.fit_bounds([[c.Lat.min(), c.Lon.min()], [c.Lat.max(), c.Lon.max()]])\n",
    "    \n",
    "    print('The closest matching recipe is: ' + winner)\n",
    "    print(str(len(closest_df.dropna())) + ' of ' + str(len(closest_df)) + ' ingredients located')\n",
    "    return display(m)\n",
    "    \n",
    "    \n",
    "face_mapper(Lat_in,Lon_in,closest_frame)"
   ]
  },
  {
   "cell_type": "code",
   "execution_count": null,
   "metadata": {},
   "outputs": [],
   "source": []
  }
 ],
 "metadata": {
  "kernelspec": {
   "display_name": "Python 3",
   "language": "python",
   "name": "python3"
  },
  "language_info": {
   "codemirror_mode": {
    "name": "ipython",
    "version": 3
   },
   "file_extension": ".py",
   "mimetype": "text/x-python",
   "name": "python",
   "nbconvert_exporter": "python",
   "pygments_lexer": "ipython3",
   "version": "3.7.3"
  }
 },
 "nbformat": 4,
 "nbformat_minor": 2
}
