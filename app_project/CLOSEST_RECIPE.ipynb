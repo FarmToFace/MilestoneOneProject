{
 "cells": [
  {
   "cell_type": "code",
   "execution_count": null,
   "metadata": {},
   "outputs": [],
   "source": [
    "import pandas as pd\n",
    "import numpy as np\n",
    "import difflib\n",
    "from math import cos, radians\n",
    "from haversine import haversine, Unit\n",
    "import folium\n",
    "\n",
    "\n"
   ]
  },
  {
   "cell_type": "code",
   "execution_count": 97,
   "metadata": {},
   "outputs": [
    {
     "name": "stdout",
     "output_type": "stream",
     "text": [
      "Please enter a recipe (e.g. Pasta Putanesca): chicken fontina\n"
     ]
    }
   ],
   "source": [
    "#INPUT CELL:\n",
    "input_recipe = input(\"Please enter a recipe (e.g. Pasta Putanesca): \")\n",
    "Lat_in = 35.2220\n",
    "Lon_in = -101.8313\n"
   ]
  },
  {
   "cell_type": "code",
   "execution_count": 98,
   "metadata": {},
   "outputs": [],
   "source": [
    "# dear robert\n",
    "# this is Ermias from class\n",
    "# modify these file directories for the ones I am going to upload\n",
    "# something like\n",
    "# data_cleaned/USDA_file.csv\n",
    "\n",
    "farm_in = \"USDA_file.csv\"\n",
    "recipe_in = \"Recipe_file.csv\"\n",
    "farms = pd.read_csv(farm_in)\n",
    "recipes = pd.read_csv(recipe_in)\n"
   ]
  },
  {
   "cell_type": "code",
   "execution_count": 99,
   "metadata": {},
   "outputs": [],
   "source": [
    "recipes['title'] = recipes['title'].astype(str)\n",
    "recipes['matched_ingredient'] = recipes['matched_ingredient'].astype(str)\n",
    "farms['LAT'] = farms['LAT'].astype(float)\n",
    "farms['LON'] = farms['LON'].astype(float)"
   ]
  },
  {
   "cell_type": "code",
   "execution_count": 100,
   "metadata": {},
   "outputs": [],
   "source": [
    "rec_list = recipes.title.unique().tolist()\n",
    "hey = rec_list[:1000]\n",
    "match_list = difflib.get_close_matches(input_recipe, rec_list, n=3, cutoff=0.1)\n"
   ]
  },
  {
   "cell_type": "code",
   "execution_count": 101,
   "metadata": {},
   "outputs": [],
   "source": [
    "match_df = recipes[recipes['title'].isin(match_list)]\n",
    "ingredient_list = match_df.matched_ingredient.unique().tolist()\n"
   ]
  },
  {
   "cell_type": "code",
   "execution_count": 102,
   "metadata": {},
   "outputs": [],
   "source": [
    "farms['INGREDIENT']=farms['INGREDIENT'].apply(lambda x: x.lower())"
   ]
  },
  {
   "cell_type": "code",
   "execution_count": 103,
   "metadata": {},
   "outputs": [],
   "source": [
    "farm_search = farms[farms['INGREDIENT'].isin(ingredient_list)]\n"
   ]
  },
  {
   "cell_type": "code",
   "execution_count": 115,
   "metadata": {},
   "outputs": [],
   "source": [
    "\n",
    "\n",
    "farm_search.loc[:,'es'] = farm_search.apply(lambda x: haversine((Lat_in,Lon_in),(x.LAT, x.LON),unit='mi'), axis=1)\n",
    "\n"
   ]
  },
  {
   "cell_type": "code",
   "execution_count": 105,
   "metadata": {},
   "outputs": [],
   "source": [
    "def my_agg(x):\n",
    "    names = {\n",
    "        'score': x['es'].min()}\n",
    "\n",
    "    return pd.Series(names, index=['score'])\n",
    "\n",
    "idx = farm_search.groupby(['INGREDIENT'])['es'].transform(min) == farm_search['es']\n",
    "farm_vals = farm_search[idx]\n",
    "alpha = farm_vals.groupby(['INGREDIENT','LAT','LON']).apply(my_agg).reset_index()\n",
    "beta = alpha.set_index(['INGREDIENT'])\n",
    "\n"
   ]
  },
  {
   "cell_type": "code",
   "execution_count": 106,
   "metadata": {},
   "outputs": [],
   "source": [
    "def score_ex(x,y):\n",
    "    try:\n",
    "        return beta.loc[x][y]\n",
    "    except:\n",
    "        return None\n",
    "\n",
    "match_df.loc[:,'score'] = match_df.loc[:,'matched_ingredient'].apply(lambda x: score_ex(x,'score'))\n",
    "match_df.loc[:,'Lat'] = match_df.loc[:,'matched_ingredient'].apply(lambda x: score_ex(x,'LAT'))\n",
    "match_df.loc[:,'Lon'] = match_df.loc[:,'matched_ingredient'].apply(lambda x: score_ex(x,'LON'))\n"
   ]
  },
  {
   "cell_type": "code",
   "execution_count": 107,
   "metadata": {},
   "outputs": [
    {
     "name": "stdout",
     "output_type": "stream",
     "text": [
      "The closest matching recipe is: Chicken Athena \n"
     ]
    }
   ],
   "source": [
    "\n",
    "\n",
    "scores = match_df.groupby('title').score.agg(['mean']).sort_values('mean', ascending=True).reset_index()\n",
    "winner = scores.title.iloc[0]\n",
    "print('The closest matching recipe is: ' + winner)\n",
    "closest_df = match_df[match_df['title']==winner][['matched_ingredient','Lat','Lon']]\n",
    "closest_2 = closest_df\n"
   ]
  },
  {
   "cell_type": "code",
   "execution_count": 108,
   "metadata": {},
   "outputs": [
    {
     "data": {
      "text/html": [
       "<div>\n",
       "<style scoped>\n",
       "    .dataframe tbody tr th:only-of-type {\n",
       "        vertical-align: middle;\n",
       "    }\n",
       "\n",
       "    .dataframe tbody tr th {\n",
       "        vertical-align: top;\n",
       "    }\n",
       "\n",
       "    .dataframe thead th {\n",
       "        text-align: right;\n",
       "    }\n",
       "</style>\n",
       "<table border=\"1\" class=\"dataframe\">\n",
       "  <thead>\n",
       "    <tr style=\"text-align: right;\">\n",
       "      <th></th>\n",
       "      <th>index</th>\n",
       "      <th>matched_ingredient</th>\n",
       "      <th>Lat</th>\n",
       "      <th>Lon</th>\n",
       "    </tr>\n",
       "  </thead>\n",
       "  <tbody>\n",
       "    <tr>\n",
       "      <th>0</th>\n",
       "      <td>0</td>\n",
       "      <td>olives</td>\n",
       "      <td>32.217942</td>\n",
       "      <td>-97.769211</td>\n",
       "    </tr>\n",
       "    <tr>\n",
       "      <th>1</th>\n",
       "      <td>1</td>\n",
       "      <td>chicken</td>\n",
       "      <td>35.398675</td>\n",
       "      <td>-101.893804</td>\n",
       "    </tr>\n",
       "    <tr>\n",
       "      <th>2</th>\n",
       "      <td>2</td>\n",
       "      <td>garlic</td>\n",
       "      <td>34.962529</td>\n",
       "      <td>-101.895547</td>\n",
       "    </tr>\n",
       "    <tr>\n",
       "      <th>3</th>\n",
       "      <td>3</td>\n",
       "      <td>fresh cut herbs</td>\n",
       "      <td>34.572984</td>\n",
       "      <td>-103.346055</td>\n",
       "    </tr>\n",
       "    <tr>\n",
       "      <th>4</th>\n",
       "      <td>4</td>\n",
       "      <td>tomatoes</td>\n",
       "      <td>34.962529</td>\n",
       "      <td>-101.895547</td>\n",
       "    </tr>\n",
       "  </tbody>\n",
       "</table>\n",
       "</div>"
      ],
      "text/plain": [
       "   index matched_ingredient        Lat         Lon\n",
       "0      0             olives  32.217942  -97.769211\n",
       "1      1            chicken  35.398675 -101.893804\n",
       "2      2             garlic  34.962529 -101.895547\n",
       "3      3    fresh cut herbs  34.572984 -103.346055\n",
       "4      4           tomatoes  34.962529 -101.895547"
      ]
     },
     "execution_count": 108,
     "metadata": {},
     "output_type": "execute_result"
    }
   ],
   "source": [
    "closest_df = closest_df.dropna().reset_index()[['matched_ingredient','Lat','Lon']].reset_index()\n",
    "closest_df.head()"
   ]
  },
  {
   "cell_type": "code",
   "execution_count": 109,
   "metadata": {},
   "outputs": [],
   "source": [
    "frame_in = pd.DataFrame({'index': [50], 'matched_ingredient': ['Home'], 'Lat': [Lat_in], 'Lon': [Lon_in]})\n"
   ]
  },
  {
   "cell_type": "code",
   "execution_count": 112,
   "metadata": {
    "scrolled": false
   },
   "outputs": [
    {
     "data": {
      "text/html": [
       "<div style=\"width:100%;\"><div style=\"position:relative;width:100%;height:0;padding-bottom:60%;\"><iframe src=\"data:text/html;charset=utf-8;base64,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\" style=\"position:absolute;width:100%;height:100%;left:0;top:0;border:none !important;\" allowfullscreen webkitallowfullscreen mozallowfullscreen></iframe></div></div>"
      ],
      "text/plain": [
       "<folium.folium.Map at 0x7fb62c90e278>"
      ]
     },
     "metadata": {},
     "output_type": "execute_result"
    }
   ],
   "source": [
    "\n",
    "         \n",
    "m=folium.Map(location=[Lat_in,Lon_in])\n",
    "for item in range(len(closest_df)):\n",
    "    df_new = pd.concat([closest_df[closest_df['index'] == item], frame_in])\n",
    "    \n",
    "    points = list(df_new[['Lat','Lon']].to_records(index=False))\n",
    "    #print(df_new[\"position_lat_degrees\"].head())\n",
    "    \n",
    "    try:\n",
    "        folium.PolyLine(locations=points,weight=5).add_to(m)\n",
    "        folium.Marker([df_new[\"Lat\"].iloc[0],df_new[\"Lon\"].iloc[0]], \n",
    "                      popup=df_new['matched_ingredient'].iloc[0]).add_to(m)\n",
    "        \n",
    "    except: \n",
    "        print('Farm to Face Map has been Canned')\n",
    "    #m.add_children(route)\n",
    "m.fit_bounds([[closest_df.Lat.min(), closest_df.Lon.min()], [closest_df.Lat.max(), closest_df.Lon.max()]])\n",
    "display(m)"
   ]
  },
  {
   "cell_type": "code",
   "execution_count": null,
   "metadata": {},
   "outputs": [],
   "source": []
  }
 ],
 "metadata": {
  "kernelspec": {
   "display_name": "Python 3",
   "language": "python",
   "name": "python3"
  },
  "language_info": {
   "codemirror_mode": {
    "name": "ipython",
    "version": 3
   },
   "file_extension": ".py",
   "mimetype": "text/x-python",
   "name": "python",
   "nbconvert_exporter": "python",
   "pygments_lexer": "ipython3",
   "version": "3.7.3"
  }
 },
 "nbformat": 4,
 "nbformat_minor": 2
}
