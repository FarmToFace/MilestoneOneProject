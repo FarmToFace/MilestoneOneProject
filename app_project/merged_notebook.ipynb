{
 "cells": [
  {
   "cell_type": "code",
   "execution_count": null,
   "metadata": {},
   "outputs": [],
   "source": [
    "from closestRecipe import ClosestRecipe\n",
    "from farm_vis import farm_vis\n",
    "import pandas as pd"
   ]
  },
  {
   "cell_type": "code",
   "execution_count": null,
   "metadata": {},
   "outputs": [],
   "source": [
    "cr = ClosestRecipe()"
   ]
  },
  {
   "cell_type": "code",
   "execution_count": null,
   "metadata": {},
   "outputs": [],
   "source": [
    "#this cell demonstrates output of sorting all recipes by distance as a function of an input zip code;\n",
    "#changing the zip code will alter resulting dataframe\n",
    "zip_code = '30082'\n",
    "ranked_recipe_df = cr.recipe_rank_zip(zip_code)"
   ]
  },
  {
   "cell_type": "code",
   "execution_count": null,
   "metadata": {},
   "outputs": [],
   "source": [
    "#this cell sets a lat/ lon position from zip code center &\n",
    "#demonstrates calculating the mean distance for all recipes from a given input location\n",
    "lat_long = cr.zip_lookup_lat_long(zip_code)\n",
    "print('the center of that zip code is at: ' + str(lat_long))\n",
    "average_recipe_distance_by_lat_long = cr.recipe_rank_avg_lat_long(lat_long)[0][0]\n",
    "print('the average distance of all recipes from that input location is ' + str(average_recipe_distance_by_lat_long) + ' miles.')"
   ]
  },
  {
   "cell_type": "code",
   "execution_count": null,
   "metadata": {},
   "outputs": [],
   "source": [
    "ranked_with_ingredients = cr.recipe_rank_ings_zip(zip_code)\n",
    "#ranked_with_ingredients.head()"
   ]
  },
  {
   "cell_type": "code",
   "execution_count": null,
   "metadata": {},
   "outputs": [],
   "source": [
    "pd.merge(cr.recipe_rank_zip('30082'), cr.recipe_rank_ings_zip('30082'), on='uid_recipe_title')"
   ]
  },
  {
   "cell_type": "code",
   "execution_count": null,
   "metadata": {},
   "outputs": [],
   "source": [
    "farm_vis.chloropleth()"
   ]
  },
  {
   "cell_type": "code",
   "execution_count": null,
   "metadata": {},
   "outputs": [],
   "source": [
    "#this cell generates a chloropleth for average distance of all recipes from all possible county centers in the \n",
    "#contiguous United States\n",
    "#this function takes time to run (approx. 30 minutes locally on laptop)\n",
    "import geopandas as gpd\n",
    "import pandas as pd\n",
    "import numpy as np\n",
    "import json\n",
    "import folium\n",
    "\n",
    "\n",
    "def chloropleth():\n",
    "    county_geo = '/data/location/US_counties.geojson'\n",
    "\n",
    "    df = gpd.read_file(county_geo, driver='GeoJSON')\n",
    "\n",
    "    # Set to contiguous United States to limit range of mean distances and widen distribution for visualization\n",
    "    alpha = df[~df['STATEFP'].isin(['02','15','60','66','69','72','78'])].reset_index()\n",
    "    \n",
    "\n",
    "    #creating normalized dataframes\n",
    "    COUNTY_COORD = alpha[['NAME','INTPTLAT','INTPTLON','GEOID']].reset_index().rename(columns = {'index':'uid_lat_long','GEOID':'geo_id','INTPTLAT':'lat','INTPTLON':'long'})\n",
    "    \n",
    "    #setting as float\n",
    "    COUNTY_COORD.lat = COUNTY_COORD.lat.astype(float)\n",
    "    COUNTY_COORD.long = COUNTY_COORD.long.astype(float)\n",
    "    \n",
    "    COUNTY_COORD.loc[:,'mean_distance'] = COUNTY_COORD.apply(lambda x: cr.recipe_rank_avg_lat_long((x.lat,x.long))[0][0], axis = 1)\n",
    "    \n",
    "    #Create Choloropleth map from data\n",
    "    # Initialize the map to contiguous states:\n",
    "    m = folium.Map(location=[37, -102], zoom_start=5)\n",
    "    # Add the color for the chloropleth:\n",
    "    m.choropleth(geo_data=county_geo,\n",
    "                         fill_color='YlGn', fill_opacity=0.5, line_opacity=0.5,\n",
    "                         data = COUNTY_COORD,\n",
    "                         key_on='feature.properties.GEOID',\n",
    "                         columns = ['geo_id', 'mean_distance']\n",
    "                         ) \n",
    "    m.save('../data/counties_mean_distance.html')\n",
    "\n",
    "#un-comment the following line to run\n",
    "#chloropleth()\n"
   ]
  },
  {
   "cell_type": "code",
   "execution_count": null,
   "metadata": {},
   "outputs": [],
   "source": [
    "\n",
    "#the cell generates a cumulative density function of recipe distances from a given user input location\n",
    "import seaborn as sns\n",
    "import matplotlib.pyplot as plt\n",
    "def dist_plot(x,y):\n",
    "    #x = recipe_frame\n",
    "    #y = current_index\n",
    "    density = (y+1)/len(x)\n",
    "    mcdf = sns.kdeplot(x['mean_score'], cumulative=True, shade=True, color=\"b\").set(\n",
    "        xlabel='recipe average distance', ylabel='% recipes closer')\n",
    "    plt.plot([y, y], [0, density])"
   ]
  },
  {
   "cell_type": "code",
   "execution_count": null,
   "metadata": {},
   "outputs": [],
   "source": []
  },
  {
   "cell_type": "code",
   "execution_count": null,
   "metadata": {},
   "outputs": [],
   "source": []
  },
  {
   "cell_type": "code",
   "execution_count": null,
   "metadata": {},
   "outputs": [],
   "source": []
  }
 ],
 "metadata": {
  "kernelspec": {
   "display_name": "venv",
   "language": "python",
   "name": "venv"
  },
  "language_info": {
   "codemirror_mode": {
    "name": "ipython",
    "version": 3
   },
   "file_extension": ".py",
   "mimetype": "text/x-python",
   "name": "python",
   "nbconvert_exporter": "python",
   "pygments_lexer": "ipython3",
   "version": "3.7.3"
  }
 },
 "nbformat": 4,
 "nbformat_minor": 1
}
