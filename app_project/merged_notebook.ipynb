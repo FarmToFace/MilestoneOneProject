{
 "cells": [
  {
   "cell_type": "code",
   "execution_count": null,
   "metadata": {},
   "outputs": [],
   "source": [
    "from closestRecipe import ClosestRecipe\n",
    "from farm_vis import farm_vis\n",
    "import pandas as pd"
   ]
  },
  {
   "cell_type": "code",
   "execution_count": null,
   "metadata": {},
   "outputs": [],
   "source": [
    "cr = ClosestRecipe()"
   ]
  },
  {
   "cell_type": "code",
   "execution_count": null,
   "metadata": {},
   "outputs": [],
   "source": [
    "#this cell demonstrates output of sorting all recipes by distance as a function of an input zip code;\n",
    "#changing the zip code will alter resulting dataframe\n",
    "zip_code = '30082'\n",
    "ranked_recipe_df = cr.recipe_rank_zip(zip_code)"
   ]
  },
  {
   "cell_type": "code",
   "execution_count": null,
   "metadata": {},
   "outputs": [],
   "source": [
    "#this cell sets a lat/ lon position from zip code center &\n",
    "#demonstrates calculating the mean distance for all recipes from a given input location\n",
    "lat_long = cr.zip_lookup_lat_long(zip_code)\n",
    "print('the center of that zip code is at: ' + str(lat_long))\n",
    "average_recipe_distance_by_lat_long = cr.recipe_rank_avg_lat_long(lat_long)[0][0]\n",
    "print('the average distance of all recipes from that input location is ' + str(average_recipe_distance_by_lat_long) + ' miles.')"
   ]
  },
  {
   "cell_type": "code",
   "execution_count": null,
   "metadata": {},
   "outputs": [],
   "source": [
    "ranked_with_ingredients = cr.recipe_rank_ings_zip(zip_code)\n",
    "#ranked_with_ingredients.head()"
   ]
  },
  {
   "cell_type": "code",
   "execution_count": null,
   "metadata": {},
   "outputs": [],
   "source": [
    "pd.merge(cr.recipe_rank_zip('30082'), cr.recipe_rank_ings_zip('30082'), on='uid_recipe_title')"
   ]
  },
  {
   "cell_type": "code",
   "execution_count": null,
   "metadata": {},
   "outputs": [],
   "source": [
    "#this cell generates a chloropleth for average distance of all recipes from all possible county centers in the \n",
    "#contiguous United States\n",
    "#this function takes time to run (approx. 30 minutes locally on laptop)\n",
    "farm_vis.chloropleth()"
   ]
  },
  {
   "cell_type": "code",
   "execution_count": null,
   "metadata": {},
   "outputs": [],
   "source": [
    "\n",
    "#the cell generates a cumulative density function of recipe distances from a given user input location\n",
    "import seaborn as sns\n",
    "import matplotlib.pyplot as plt\n",
    "def dist_plot(x,y):\n",
    "    #x = recipe_frame\n",
    "    #y = current_index\n",
    "    density = (y+1)/len(x)\n",
    "    mcdf = sns.kdeplot(x['mean_score'], cumulative=True, shade=True, color=\"b\").set(\n",
    "        xlabel='recipe average distance', ylabel='% recipes closer')\n",
    "    plt.plot([y, y], [0, density])"
   ]
  },
  {
   "cell_type": "code",
   "execution_count": null,
   "metadata": {},
   "outputs": [],
   "source": []
  },
  {
   "cell_type": "code",
   "execution_count": null,
   "metadata": {},
   "outputs": [],
   "source": []
  },
  {
   "cell_type": "code",
   "execution_count": null,
   "metadata": {},
   "outputs": [],
   "source": []
  }
 ],
 "metadata": {
  "kernelspec": {
   "display_name": "venv",
   "language": "python",
   "name": "venv"
  },
  "language_info": {
   "codemirror_mode": {
    "name": "ipython",
    "version": 3
   },
   "file_extension": ".py",
   "mimetype": "text/x-python",
   "name": "python",
   "nbconvert_exporter": "python",
   "pygments_lexer": "ipython3",
   "version": "3.7.3"
  }
 },
 "nbformat": 4,
 "nbformat_minor": 1
}
