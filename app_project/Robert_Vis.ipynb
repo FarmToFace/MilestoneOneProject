{
 "cells": [
  {
   "cell_type": "code",
   "execution_count": 1,
   "metadata": {},
   "outputs": [],
   "source": [
    "from closestRecipe import ClosestRecipe\n",
    "import pandas as pd"
   ]
  },
  {
   "cell_type": "code",
   "execution_count": 3,
   "metadata": {},
   "outputs": [],
   "source": [
    "cr = ClosestRecipe()"
   ]
  },
  {
   "cell_type": "code",
   "execution_count": 41,
   "metadata": {},
   "outputs": [],
   "source": [
    "import geopandas as gpd\n",
    "import pandas as pd\n",
    "import numpy as np\n",
    "import json\n",
    "import folium\n",
    "\n",
    "\n",
    "def chloropleth():\n",
    "    county_geo = '../data/location/US_counties.geojson'\n",
    "\n",
    "    df = gpd.read_file(county_geo, driver='GeoJSON')\n",
    "\n",
    "    # Set to contiguous United States to limit range of mean distances and widen distribution for visualization\n",
    "    alpha = df[~df['STATEFP'].isin(['02','15','60','66','69','72','78'])].reset_index()\n",
    "    \n",
    "\n",
    "    #creating normalized dataframes\n",
    "    COUNTY_COORD = alpha[['NAME','INTPTLAT','INTPTLON','GEOID']].reset_index().rename(columns = {'index':'uid_lat_long','GEOID':'geo_id','INTPTLAT':'lat','INTPTLON':'long'})\n",
    "    \n",
    "    #setting as float\n",
    "    COUNTY_COORD.lat = COUNTY_COORD.lat.astype(float)\n",
    "    COUNTY_COORD.long = COUNTY_COORD.long.astype(float)\n",
    "    \n",
    "    COUNTY_COORD.loc[:,'mean_distance'] = COUNTY_COORD.apply(lambda x: cr.recipe_rank_avg_lat_long((x.lat,x.long))[0][0], axis = 1)\n",
    "    \n",
    "    #Create Choloropleth map from data\n",
    "    # Initialize the map to contiguous states:\n",
    "    m = folium.Map(location=[37, -102], zoom_start=5)\n",
    "    # Add the color for the chloropleth:\n",
    "    m.choropleth(geo_data=county_geo,\n",
    "                         fill_color='YlGn', fill_opacity=0.5, line_opacity=0.5,\n",
    "                         data = COUNTY_COORD,\n",
    "                         key_on='feature.properties.GEOID',\n",
    "                         columns = ['geo_id', 'mean_distance']\n",
    "                         ) \n",
    "    m.save('../data/counties_mean_distance.html')\n",
    "chloropleth()\n"
   ]
  },
  {
   "cell_type": "code",
   "execution_count": 42,
   "metadata": {},
   "outputs": [],
   "source": [
    "import seaborn as sns\n",
    "import matplotlib.pyplot as plt\n",
    "def dist_plot(x,y):\n",
    "    #x = recipe_frame\n",
    "    #y = current_index\n",
    "    density = (y+1)/len(x)\n",
    "    mcdf = sns.kdeplot(x['mean_score'], cumulative=True, shade=True, color=\"b\").set(\n",
    "        xlabel='recipe average distance', ylabel='% recipes closer')\n",
    "    plt.plot([y, y], [0, density])"
   ]
  },
  {
   "cell_type": "code",
   "execution_count": null,
   "metadata": {},
   "outputs": [],
   "source": []
  },
  {
   "cell_type": "code",
   "execution_count": null,
   "metadata": {},
   "outputs": [],
   "source": []
  },
  {
   "cell_type": "code",
   "execution_count": null,
   "metadata": {},
   "outputs": [],
   "source": []
  }
 ],
 "metadata": {
  "kernelspec": {
   "display_name": "venv",
   "language": "python",
   "name": "venv"
  },
  "language_info": {
   "codemirror_mode": {
    "name": "ipython",
    "version": 3
   },
   "file_extension": ".py",
   "mimetype": "text/x-python",
   "name": "python",
   "nbconvert_exporter": "python",
   "pygments_lexer": "ipython3",
   "version": "3.7.3"
  }
 },
 "nbformat": 4,
 "nbformat_minor": 1
}
