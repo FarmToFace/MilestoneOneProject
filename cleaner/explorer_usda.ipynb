{
 "cells": [
  {
   "cell_type": "code",
   "execution_count": 11,
   "metadata": {
    "collapsed": true,
    "pycharm": {
     "is_executing": false
    }
   },
   "outputs": [],
   "source": [
    "import pandas as pd\n",
    "from collections import defaultdict"
   ]
  },
  {
   "cell_type": "code",
   "execution_count": 6,
   "outputs": [],
   "source": [
    "# read the file\n",
    "def read_csv(file):\n",
    "    df = pd.read_csv(file)\n",
    "    return df"
   ],
   "metadata": {
    "collapsed": false,
    "pycharm": {
     "name": "#%%\n",
     "is_executing": false
    }
   }
  },
  {
   "cell_type": "code",
   "execution_count": 13,
   "outputs": [
    {
     "name": "stdout",
     "text": [
      "   Unnamed: 0        LAT         LON       COUNTY_STATE INGREDIENT  \\\n",
      "0           0  33.789618 -110.811870           gila, az    ALMONDS   \n",
      "1           1  38.827082  -89.900195        madison, il    ALMONDS   \n",
      "2           2  37.220777 -121.690622     santaclara, ca    ALMONDS   \n",
      "3           3  38.450011 -121.340441     sacramento, ca    ALMONDS   \n",
      "4           4  29.606006  -81.740894         putnam, fl    ALMONDS   \n",
      "5           5  34.519549  -82.638086       anderson, sc    ALMONDS   \n",
      "6           6  34.630044 -112.573745        yavapai, az    ALMONDS   \n",
      "7           7  35.385227 -120.447540  sanluisobispo, ca    ALMONDS   \n",
      "8           8  36.079065  -79.788665       guilford, nc    ALMONDS   \n",
      "9           9  38.532574 -122.945194         sonoma, ca    ALMONDS   \n",
      "\n",
      "  INGREDIENT_DETAIL                                         SHORT_DESC  \n",
      "0       ALL CLASSES             ALMONDS - OPERATIONS WITH AREA BEARING  \n",
      "1       ALL CLASSES             ALMONDS - OPERATIONS WITH AREA BEARING  \n",
      "2       ALL CLASSES  ALMONDS - OPERATIONS WITH AREA BEARING & NON-B...  \n",
      "3       ALL CLASSES                        ALMONDS - ACRES NON-BEARING  \n",
      "4       ALL CLASSES              ALMONDS - ACRES BEARING & NON-BEARING  \n",
      "5       ALL CLASSES              ALMONDS - ACRES BEARING & NON-BEARING  \n",
      "6       ALL CLASSES  ALMONDS - OPERATIONS WITH AREA BEARING & NON-B...  \n",
      "7       ALL CLASSES         ALMONDS - OPERATIONS WITH AREA NON-BEARING  \n",
      "8       ALL CLASSES              ALMONDS - ACRES BEARING & NON-BEARING  \n",
      "9       ALL CLASSES                            ALMONDS - ACRES BEARING  \n",
      "Index(['Unnamed: 0', 'LAT', 'LON', 'COUNTY_STATE', 'INGREDIENT',\n",
      "       'INGREDIENT_DETAIL', 'SHORT_DESC'],\n",
      "      dtype='object')\n"
     ],
     "output_type": "stream"
    }
   ],
   "source": [
    "df = read_csv('../data/raw_ingredients/USDA_file.csv')\n",
    "print(df.head(10))\n",
    "print(df.columns)\n",
    "\n",
    "columns_distinct = defaultdict(list)\n",
    "for c in df.columns:\n",
    "    if c not in ['LAT', 'LON']:\n",
    "        columns_distinct[c].append(df[c].unique())"
   ],
   "metadata": {
    "collapsed": false,
    "pycharm": {
     "name": "#%%\n",
     "is_executing": false
    }
   }
  },
  {
   "cell_type": "code",
   "execution_count": 15,
   "outputs": [
    {
     "name": "stdout",
     "text": [
      "[array(['ALMONDS', 'ALPACAS', 'APPLES', 'APRICOTS', 'AQUATIC PLANTS',\n",
      "       'ARONIA BERRIES', 'ARTICHOKES', 'ASPARAGUS', 'AVOCADOS',\n",
      "       'BAITFISH', 'BANANAS', 'BARLEY', 'BEANS', 'BEETS', 'BISON',\n",
      "       'BLACKBERRIES', 'BLUEBERRIES', 'BOYSENBERRIES', 'BROCCOLI',\n",
      "       'BRUSSELS SPROUTS', 'BUCKWHEAT',\n",
      "       'BULBS & CORMS & RHIZOMES & TUBERS', 'CABBAGE', 'CAMELINA',\n",
      "       'CANOLA', 'CARROTS', 'CATTLE', 'CAULIFLOWER', 'CCC LOANS',\n",
      "       'CELERY', 'CHERIMOYAS', 'CHERRIES', 'CHESTNUTS', 'CHICKENS',\n",
      "       'CHICKPEAS', 'CHICORY', 'CHUKARS', 'COFFEE', 'CORN', 'COTTON',\n",
      "       'CRANBERRIES', 'CRUSTACEANS', 'CUCUMBERS', 'CURRANTS',\n",
      "       'CUT CHRISTMAS TREES',\n",
      "       'CUT CHRISTMAS TREES & SHORT TERM WOODY CROPS',\n",
      "       'CUT FLOWERS & CUT CULTIVATED GREENS', 'DAIKON', 'DATES', 'DEER',\n",
      "       'DEPRECIATION', 'DILL', 'DUCKS', 'EGGPLANT', 'EGGS',\n",
      "       'ELDERBERRIES', 'ELK', 'EMMER & SPELT', 'EMUS', 'EQUINE',\n",
      "       'ESCAROLE & ENDIVE', 'FARM OPERATIONS', 'FEED', 'FIGS', 'FLAXSEED',\n",
      "       'FLOWER SEEDS', 'FLOWERING PLANTS, POTTED', 'FOLIAGE PLANTS',\n",
      "       'FOOD FISH', 'FUELS', 'GARLIC', 'GEESE', 'GINGER ROOT', 'GINSENG',\n",
      "       'GOATS', 'GOVT PROGRAMS', 'GRAIN', 'GRAPEFRUIT', 'GRAPES',\n",
      "       'GRASSES', 'GREENS', 'GUAR', 'GUAVAS', 'GUINEAS', 'HAY',\n",
      "       'HAY & HAYLAGE', 'HAYLAGE', 'HAZELNUTS', 'HERBS', 'HOGS', 'HONEY',\n",
      "       'HOPS', 'HORSERADISH', 'INCOME, FARM-RELATED',\n",
      "       'INCOME, NET CASH FARM', 'INTEREST', 'INTERNET', 'JOJOBA',\n",
      "       'KIWIFRUIT', 'KUMQUATS', 'LABOR', 'LEGUMES', 'LEMONS', 'LENTILS',\n",
      "       'LETTUCE', 'LIMES', 'LLAMAS', 'LOGANBERRIES', 'MACADAMIAS',\n",
      "       'MANGOES', 'MAPLE SYRUP', 'MELONS', 'MILK', 'MILLET', 'MINT',\n",
      "       'MISCANTHUS', 'MOHAIR', 'MOLLUSKS', 'MUSHROOM SPAWN', 'MUSHROOMS',\n",
      "       'MUSTARD', 'NECTARINES', 'OATS', 'OKRA', 'OLIVES', 'ONIONS',\n",
      "       'ORANGES', 'ORCHARDS', 'ORNAMENTAL FISH', 'OSTRICHES',\n",
      "       'PACKING FACILITY', 'PAPAYAS', 'PARSLEY', 'PARTRIDGES',\n",
      "       'PASSION FRUIT', 'PEACHES', 'PEAFOWL', 'PEANUTS', 'PEARS', 'PEAS',\n",
      "       'PECANS', 'PEPPERS', 'PERSIMMONS', 'PHEASANTS', 'PIGEONS & SQUAB',\n",
      "       'PINEAPPLES', 'PISTACHIOS', 'PLUM-APRICOT HYBRIDS', 'PLUMS',\n",
      "       'PLUMS & PRUNES', 'POMEGRANATES', 'POPCORN', 'POTATOES',\n",
      "       'PRACTICES', 'PROPAGATIVE MATERIAL', 'PRUNES', 'PUMPKINS', 'QUAIL',\n",
      "       'RABBITS', 'RADISHES', 'RAPESEED', 'RASPBERRIES', 'RENT', 'RHEAS',\n",
      "       'RHUBARB', 'RICE', 'RYE', 'SAFFLOWER', 'SEEDS', 'SELF PROPELLED',\n",
      "       'SESAME', 'SHEEP', 'SHORT TERM WOODY CROPS', 'SOD', 'SORGHUM',\n",
      "       'SOYBEANS', 'SPINACH', 'SPORT FISH', 'SQUASH', 'STRAWBERRIES',\n",
      "       'SUGARBEETS', 'SUGARCANE', 'SUNFLOWER', 'SUPPLIES & REPAIRS',\n",
      "       'SWEET CORN', 'SWEET POTATOES', 'SWITCHGRASS', 'TANGELOS',\n",
      "       'TANGERINES', 'TARO', 'TAXES', 'TOBACCO', 'TOMATOES', 'TRACTORS',\n",
      "       'TRANSPLANTS', 'TRITICALE', 'TRUCKS', 'TURKEYS', 'TURNIPS',\n",
      "       'VEGETABLE SEEDS', 'WALNUTS', 'WATER', 'WATERCRESS', 'WHEAT',\n",
      "       'WILD RICE', 'WOOL'], dtype=object)]\n",
      "[array(['ALL CLASSES', 'SNAP', 'DRY EDIBLE, (EXCL CHICKPEAS & LIMA)',\n",
      "       'GREEN, LIMA', 'DRY EDIBLE, LIMA',\n",
      "       'INCL DEWBERRIES & MARIONBERRIES', 'TAME', 'WILD', 'DRY', 'HEAD',\n",
      "       'CHINESE', 'MUSTARD', 'INCL CALVES', 'CALVES', 'GE 500 LBS',\n",
      "       'CALVES, VEAL', 'HEIFERS, GE 500 LBS, MILK REPLACEMENT',\n",
      "       'COWS, BEEF', 'COWS, MILK', 'COWS', '(EXCL COWS)', 'TART', 'SWEET',\n",
      "       'LAYERS', 'ROOSTERS', 'PULLETS, REPLACEMENT', 'BROILERS',\n",
      "       'TRADITIONAL OR INDIAN', 'PIMA', 'UPLAND', 'PRODUCTS ONLY',\n",
      "       '(HORSES & PONIES) & (MULES & BURROS & DONKEYS)',\n",
      "       'HORSES & PONIES', 'MULES & BURROS & DONKEYS',\n",
      "       'ORGANIZATION, GT 50 PCT OWNERSHIP HELD BY ONE PRODUCERS HOUSEHOLD & EXTENDED FAMILY',\n",
      "       'ORGANIZATION, TAX PURPOSES, INSTITUTIONAL & RESEARCH & RESERVATION & OTHER',\n",
      "       'ORGANIZATION, TAX PURPOSES, PARTNERSHIP',\n",
      "       'ORGANIZATION, TAX PURPOSES, CORPORATION, (EXCL FAMILY HELD)',\n",
      "       'ORGANIZATION, LIMITED LIABILITY COMPANY',\n",
      "       'ORGANIZATION, TAX PURPOSES, CORPORATION, FAMILY HELD',\n",
      "       'ORGANIZATION, TAX PURPOSES, FAMILY & INDIVIDUAL', 'INDOOR USE',\n",
      "       '(EXCL CATFISH & TROUT)', 'CATFISH', 'TROUT', 'INCL LUBRICANTS',\n",
      "       'MILK', 'MEAT & OTHER', 'ANGORA', 'FEDERAL',\n",
      "       'FEDERAL, (EXCL CONSERVATION & WETLANDS)',\n",
      "       'FEDERAL, CONSERVATION & WETLANDS', 'OTHER', 'BAHIA GRASS',\n",
      "       'FESCUE', 'WHEATGRASS', 'BLUEGRASS, KENTUCKY', 'RYEGRASS',\n",
      "       'BERMUDA GRASS', 'SUDANGRASS', 'ORCHARDGRASS', 'BROMEGRASS',\n",
      "       'BENTGRASS', 'TIMOTHY', 'COLLARD', 'KALE', 'TURNIP',\n",
      "       '(EXCL ALFALFA)', 'ALFALFA', 'FRESH CUT', 'BEE COLONIES',\n",
      "       'RENT, LAND & BUILDINGS',\n",
      "       'FOREST PRODUCTS, (EXCL CHRISTMAS TREES & SHORT TERM WOODY CROPS & MAPLE SYRUP)',\n",
      "       'AG SERVICES, CUSTOMWORK & OTHER',\n",
      "       'CROP & ANIMAL INSURANCE PAYMENTS',\n",
      "       'AG TOURISM & RECREATIONAL SERVICES',\n",
      "       'GOVT PROGRAMS, STATE & LOCAL',\n",
      "       'PATRONAGE DIVIDENDS & REFUNDS FROM COOPERATIVES', 'OF OPERATIONS',\n",
      "       'OF PRODUCERS', 'REAL ESTATE', 'NON-REAL ESTATE', 'MIGRANT',\n",
      "       'HIRED, GE 150 DAYS', 'HIRED', 'HIRED, LT 150 DAYS', 'UNPAID',\n",
      "       'CONTRACT', 'CLOVER, RED', 'BIRDSFOOT TREFOIL', 'CLOVER, WHITE',\n",
      "       'CLOVER, CRIMSON', 'LESPEDEZA', 'VETCH', 'ROMAINE', 'LEAF',\n",
      "       'CANTALOUP', 'WATERMELON', 'HONEYDEW', 'PROSO', 'PEPPERMINT',\n",
      "       'TEA LEAVES', 'SPEARMINT', 'GREEN', 'VALENCIA', 'MID & NAVEL',\n",
      "       'CROPS', 'HUNGARIAN', 'FREESTONE', 'CLINGSTONE', 'HENS & COCKS',\n",
      "       'BARTLETT', '(EXCL BARTLETT)', 'GREEN, SOUTHERN (COWPEAS)',\n",
      "       'GREEN, (EXCL SOUTHERN)', 'CHINESE (SUGAR & SNOW)',\n",
      "       'DRY, SOUTHERN (COWPEAS)', 'DRY EDIBLE', 'AUSTRIAN WINTER',\n",
      "       'IMPROVED', 'NATIVE & SEEDLING', 'BELL', 'CHILE',\n",
      "       'INCL PLUMCOTS & PLUOTS', 'LAND USE, CROPLAND', 'LAND USE',\n",
      "       'ALLEY CROPPING & SILVAPASTURE', 'LIVE', 'RED', 'BLACK',\n",
      "       '(EXCL BLACK & RED)', 'CASH, LAND & BUILDINGS',\n",
      "       'COMBINE, GE 5 YEARS OLD', 'FORAGE HARVESTER, GE 5 YEARS OLD',\n",
      "       'COMBINE', 'FORAGE HARVESTER', 'COMBINE, LT 5 YEARS OLD',\n",
      "       'COTTON PICKERS & STRIPPERS, GE 5 YEARS OLD',\n",
      "       'COTTON PICKERS & STRIPPERS',\n",
      "       'COTTON PICKERS & STRIPPERS, LT 5 YEARS OLD',\n",
      "       'FORAGE HARVESTER, LT 5 YEARS OLD', 'INCL LAMBS', 'WINTER',\n",
      "       'SUMMER', 'NON-OIL TYPE', 'OIL TYPE', '(EXCL LUBRICANTS)',\n",
      "       'PROPERTY, REAL ESTATE & NON-REAL ESTATE, (EXCL PAID BY LANDLORD)',\n",
      "       'LT 5 YEARS OLD', '40-99 PTO HP, LT 5 YEARS OLD',\n",
      "       'LT 40 PTO HP, GE 5 YEARS OLD', 'GE 5 YEARS OLD', 'LT 40 PTO HP',\n",
      "       'GE 100 PTO HP, LT 5 YEARS OLD', '40-99 PTO HP, GE 5 YEARS OLD',\n",
      "       'GE 100 PTO HP', 'GE 100 PTO HP, GE 5 YEARS OLD', '40-99 PTO HP',\n",
      "       'LT 40 PTO HP, LT 5 YEARS OLD',\n",
      "       'COMMERCIAL, VEGETABLE & STRAWBERRY', 'COMMERCIAL, TOBACCO',\n",
      "       'INCL PICKUPS', 'INCL PICKUPS, GE 5 YEARS OLD',\n",
      "       'INCL PICKUPS, LT 5 YEARS OLD', 'ENGLISH',\n",
      "       'IRRIGATION, SOURCE = OFF FARM, SUPPLIER = FEDERAL, BUREAU OF RECLAMATION',\n",
      "       'SPRING, (EXCL DURUM)', 'SPRING, DURUM'], dtype=object)]\n"
     ],
     "output_type": "stream"
    }
   ],
   "source": [
    "print(columns_distinct['INGREDIENT'])\n",
    "print(columns_distinct['INGREDIENT_DETAIL'])\n"
   ],
   "metadata": {
    "collapsed": false,
    "pycharm": {
     "name": "#%%\n",
     "is_executing": false
    }
   }
  },
  {
   "cell_type": "code",
   "execution_count": null,
   "outputs": [],
   "source": [
    "\n"
   ],
   "metadata": {
    "collapsed": false,
    "pycharm": {
     "name": "#%%\n"
    }
   }
  }
 ],
 "metadata": {
  "kernelspec": {
   "display_name": "Python 3",
   "language": "python",
   "name": "python3"
  },
  "language_info": {
   "codemirror_mode": {
    "name": "ipython",
    "version": 2
   },
   "file_extension": ".py",
   "mimetype": "text/x-python",
   "name": "python",
   "nbconvert_exporter": "python",
   "pygments_lexer": "ipython2",
   "version": "2.7.6"
  },
  "pycharm": {
   "stem_cell": {
    "cell_type": "raw",
    "source": [],
    "metadata": {
     "collapsed": false
    }
   }
  }
 },
 "nbformat": 4,
 "nbformat_minor": 0
}