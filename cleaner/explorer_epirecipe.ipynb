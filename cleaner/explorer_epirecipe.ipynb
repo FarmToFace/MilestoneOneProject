{
 "cells": [
  {
   "cell_type": "code",
   "execution_count": 4,
   "metadata": {
    "collapsed": true,
    "pycharm": {
     "is_executing": false
    }
   },
   "outputs": [],
   "source": [
    "import pandas as pd"
   ]
  },
  {
   "cell_type": "code",
   "execution_count": 5,
   "outputs": [],
   "source": [
    "def read_csv(f):\n",
    "    return pd.read_csv(f)\n",
    "\n",
    "df = read_csv('../data/recipe/epirecipes/epi_r.csv')\n"
   ],
   "metadata": {
    "collapsed": false,
    "pycharm": {
     "name": "#%%\n",
     "is_executing": false
    }
   }
  },
  {
   "cell_type": "code",
   "execution_count": 6,
   "outputs": [
    {
     "name": "stdout",
     "text": [
      "Index(['title', 'rating', 'calories', 'protein', 'fat', 'sodium', '#cakeweek',\n",
      "       '#wasteless', '22-minute meals', '3-ingredient recipes',\n",
      "       ...\n",
      "       'yellow squash', 'yogurt', 'yonkers', 'yuca', 'zucchini', 'cookbooks',\n",
      "       'leftovers', 'snack', 'snack week', 'turkey'],\n",
      "      dtype='object', length=680)\n"
     ],
     "output_type": "stream"
    }
   ],
   "source": [
    "print(df.columns)"
   ],
   "metadata": {
    "collapsed": false,
    "pycharm": {
     "name": "#%%\n",
     "is_executing": false
    }
   }
  },
  {
   "cell_type": "code",
   "execution_count": 7,
   "outputs": [
    {
     "name": "stdout",
     "text": [
      "                                               title  rating  calories  \\\n",
      "0                    Lentil, Apple, and Turkey Wrap    2.500     426.0   \n",
      "1        Boudin Blanc Terrine with Red Onion Confit    4.375     403.0   \n",
      "2                      Potato and Fennel Soup Hodge    3.750     165.0   \n",
      "3                   Mahi-Mahi in Tomato Olive Sauce    5.000       NaN   \n",
      "4                          Spinach Noodle Casserole    3.125     547.0   \n",
      "5                                     The Best Blts    4.375     948.0   \n",
      "6  Ham and Spring Vegetable Salad with Shallot Vi...   4.375       NaN   \n",
      "7                              Spicy-Sweet Kumquats    3.750       NaN   \n",
      "8                             Korean Marinated Beef    4.375     170.0   \n",
      "9  Ham Persillade with Mustard Potato Salad and M...   3.750     602.0   \n",
      "\n",
      "   protein   fat  sodium  #cakeweek  #wasteless  22-minute meals  \\\n",
      "0     30.0   7.0   559.0        0.0         0.0              0.0   \n",
      "1     18.0  23.0  1439.0        0.0         0.0              0.0   \n",
      "2      6.0   7.0   165.0        0.0         0.0              0.0   \n",
      "3      NaN   NaN     NaN        0.0         0.0              0.0   \n",
      "4     20.0  32.0   452.0        0.0         0.0              0.0   \n",
      "5     19.0  79.0  1042.0        0.0         0.0              0.0   \n",
      "6      NaN   NaN     NaN        0.0         0.0              0.0   \n",
      "7      NaN   NaN     NaN        0.0         0.0              0.0   \n",
      "8      7.0  10.0  1272.0        0.0         0.0              0.0   \n",
      "9     23.0  41.0  1696.0        0.0         0.0              0.0   \n",
      "\n",
      "   3-ingredient recipes  ...  yellow squash  yogurt  yonkers  yuca  zucchini  \\\n",
      "0                   0.0  ...            0.0     0.0      0.0   0.0       0.0   \n",
      "1                   0.0  ...            0.0     0.0      0.0   0.0       0.0   \n",
      "2                   0.0  ...            0.0     0.0      0.0   0.0       0.0   \n",
      "3                   0.0  ...            0.0     0.0      0.0   0.0       0.0   \n",
      "4                   0.0  ...            0.0     0.0      0.0   0.0       0.0   \n",
      "5                   0.0  ...            0.0     0.0      0.0   0.0       0.0   \n",
      "6                   0.0  ...            0.0     0.0      0.0   0.0       0.0   \n",
      "7                   0.0  ...            0.0     0.0      0.0   0.0       0.0   \n",
      "8                   0.0  ...            0.0     0.0      0.0   0.0       0.0   \n",
      "9                   0.0  ...            0.0     0.0      0.0   0.0       0.0   \n",
      "\n",
      "   cookbooks  leftovers  snack  snack week  turkey  \n",
      "0        0.0        0.0    0.0         0.0     1.0  \n",
      "1        0.0        0.0    0.0         0.0     0.0  \n",
      "2        0.0        0.0    0.0         0.0     0.0  \n",
      "3        0.0        0.0    0.0         0.0     0.0  \n",
      "4        0.0        0.0    0.0         0.0     0.0  \n",
      "5        0.0        0.0    0.0         0.0     0.0  \n",
      "6        0.0        0.0    0.0         0.0     0.0  \n",
      "7        0.0        0.0    0.0         0.0     0.0  \n",
      "8        0.0        0.0    0.0         0.0     0.0  \n",
      "9        0.0        0.0    0.0         0.0     0.0  \n",
      "\n",
      "[10 rows x 680 columns]\n"
     ],
     "output_type": "stream"
    }
   ],
   "source": [
    "print(df.head(10))"
   ],
   "metadata": {
    "collapsed": false,
    "pycharm": {
     "name": "#%%\n",
     "is_executing": false
    }
   }
  },
  {
   "cell_type": "code",
   "execution_count": 11,
   "outputs": [
    {
     "name": "stdout",
     "text": [
      "['title', 'rating', 'calories', 'protein', 'fat', 'sodium', '#cakeweek', '#wasteless', '22-minute meals', '3-ingredient recipes', '30 days of groceries', 'advance prep required', 'alabama', 'alaska', 'alcoholic', 'almond', 'amaretto', 'anchovy', 'anise', 'anniversary']\n"
     ],
     "output_type": "stream"
    }
   ],
   "source": [
    "columns = df.columns\n",
    "print(list(columns)[:20])"
   ],
   "metadata": {
    "collapsed": false,
    "pycharm": {
     "name": "#%%\n",
     "is_executing": false
    }
   }
  },
  {
   "cell_type": "code",
   "execution_count": null,
   "outputs": [],
   "source": [
    "\n"
   ],
   "metadata": {
    "collapsed": false,
    "pycharm": {
     "name": "#%%\n"
    }
   }
  }
 ],
 "metadata": {
  "kernelspec": {
   "display_name": "Python 3",
   "language": "python",
   "name": "python3"
  },
  "language_info": {
   "codemirror_mode": {
    "name": "ipython",
    "version": 2
   },
   "file_extension": ".py",
   "mimetype": "text/x-python",
   "name": "python",
   "nbconvert_exporter": "python",
   "pygments_lexer": "ipython2",
   "version": "2.7.6"
  },
  "pycharm": {
   "stem_cell": {
    "cell_type": "raw",
    "source": [],
    "metadata": {
     "collapsed": false
    }
   }
  }
 },
 "nbformat": 4,
 "nbformat_minor": 0
}